{
  "cells": [
    {
      "cell_type": "markdown",
      "metadata": {
        "id": "view-in-github",
        "colab_type": "text"
      },
      "source": [
        "<a href=\"https://colab.research.google.com/github/Isi2000/NLP/blob/main/CNN_for_genome_analysis.ipynb\" target=\"_parent\"><img src=\"https://colab.research.google.com/assets/colab-badge.svg\" alt=\"Open In Colab\"/></a>"
      ]
    },
    {
      "cell_type": "markdown",
      "source": [
        "# Convolutional Neural Networks for influenza"
      ],
      "metadata": {
        "id": "HgFCHcEdfkEs"
      }
    },
    {
      "cell_type": "code",
      "source": [
        "import numpy as np\n",
        "import matplotlib.pyplot as plt\n",
        "import pandas as pd\n",
        "from collections import defaultdict\n",
        "from tqdm import tqdm\n",
        "import torch\n",
        "import torch.nn as nn\n",
        "import torch.nn.functional as F\n",
        "import re\n",
        "from torch.utils.data import TensorDataset, DataLoader\n",
        "from sklearn.model_selection import train_test_split\n",
        "!pip install Bio\n",
        "from Bio import SeqIO\n",
        "import seaborn as sns\n",
        "import torch.optim as optim\n",
        "\n",
        "is_cuda = torch.cuda.is_available()\n",
        "device = torch.device(\"cuda\" if is_cuda else \"cpu\")\n",
        "print(\"GPU is available\" if is_cuda else \"GPU not available, CPU used\")\n",
        "\n",
        "# Data\n",
        "!git clone https://github.com/Isi2000/NLP.git\n",
        "records = list(SeqIO.parse(\"NLP/ird_influenzaA_HA_allspecies.fa\", \"fasta\"))\n",
        "\n"
      ],
      "metadata": {
        "colab": {
          "base_uri": "https://localhost:8080/"
        },
        "id": "V2zDCFcCccYV",
        "outputId": "44a10f58-1dd0-43e3-a63d-19c6aefe9078"
      },
      "execution_count": 1,
      "outputs": [
        {
          "output_type": "stream",
          "name": "stdout",
          "text": [
            "Collecting Bio\n",
            "  Downloading bio-1.7.1-py3-none-any.whl.metadata (5.7 kB)\n",
            "Collecting biopython>=1.80 (from Bio)\n",
            "  Downloading biopython-1.84-cp310-cp310-manylinux_2_17_x86_64.manylinux2014_x86_64.whl.metadata (12 kB)\n",
            "Collecting gprofiler-official (from Bio)\n",
            "  Downloading gprofiler_official-1.0.0-py3-none-any.whl.metadata (11 kB)\n",
            "Collecting mygene (from Bio)\n",
            "  Downloading mygene-3.2.2-py2.py3-none-any.whl.metadata (10 kB)\n",
            "Requirement already satisfied: pandas in /usr/local/lib/python3.10/dist-packages (from Bio) (2.1.4)\n",
            "Requirement already satisfied: pooch in /usr/local/lib/python3.10/dist-packages (from Bio) (1.8.2)\n",
            "Requirement already satisfied: requests in /usr/local/lib/python3.10/dist-packages (from Bio) (2.32.3)\n",
            "Requirement already satisfied: tqdm in /usr/local/lib/python3.10/dist-packages (from Bio) (4.66.5)\n",
            "Requirement already satisfied: numpy in /usr/local/lib/python3.10/dist-packages (from biopython>=1.80->Bio) (1.26.4)\n",
            "Collecting biothings-client>=0.2.6 (from mygene->Bio)\n",
            "  Downloading biothings_client-0.3.1-py2.py3-none-any.whl.metadata (9.8 kB)\n",
            "Requirement already satisfied: python-dateutil>=2.8.2 in /usr/local/lib/python3.10/dist-packages (from pandas->Bio) (2.8.2)\n",
            "Requirement already satisfied: pytz>=2020.1 in /usr/local/lib/python3.10/dist-packages (from pandas->Bio) (2024.1)\n",
            "Requirement already satisfied: tzdata>=2022.1 in /usr/local/lib/python3.10/dist-packages (from pandas->Bio) (2024.1)\n",
            "Requirement already satisfied: platformdirs>=2.5.0 in /usr/local/lib/python3.10/dist-packages (from pooch->Bio) (4.2.2)\n",
            "Requirement already satisfied: packaging>=20.0 in /usr/local/lib/python3.10/dist-packages (from pooch->Bio) (24.1)\n",
            "Requirement already satisfied: charset-normalizer<4,>=2 in /usr/local/lib/python3.10/dist-packages (from requests->Bio) (3.3.2)\n",
            "Requirement already satisfied: idna<4,>=2.5 in /usr/local/lib/python3.10/dist-packages (from requests->Bio) (3.7)\n",
            "Requirement already satisfied: urllib3<3,>=1.21.1 in /usr/local/lib/python3.10/dist-packages (from requests->Bio) (2.0.7)\n",
            "Requirement already satisfied: certifi>=2017.4.17 in /usr/local/lib/python3.10/dist-packages (from requests->Bio) (2024.7.4)\n",
            "Requirement already satisfied: six>=1.5 in /usr/local/lib/python3.10/dist-packages (from python-dateutil>=2.8.2->pandas->Bio) (1.16.0)\n",
            "Downloading bio-1.7.1-py3-none-any.whl (280 kB)\n",
            "\u001b[2K   \u001b[90m━━━━━━━━━━━━━━━━━━━━━━━━━━━━━━━━━━━━━━━━\u001b[0m \u001b[32m281.0/281.0 kB\u001b[0m \u001b[31m12.4 MB/s\u001b[0m eta \u001b[36m0:00:00\u001b[0m\n",
            "\u001b[?25hDownloading biopython-1.84-cp310-cp310-manylinux_2_17_x86_64.manylinux2014_x86_64.whl (3.2 MB)\n",
            "\u001b[2K   \u001b[90m━━━━━━━━━━━━━━━━━━━━━━━━━━━━━━━━━━━━━━━━\u001b[0m \u001b[32m3.2/3.2 MB\u001b[0m \u001b[31m31.2 MB/s\u001b[0m eta \u001b[36m0:00:00\u001b[0m\n",
            "\u001b[?25hDownloading gprofiler_official-1.0.0-py3-none-any.whl (9.3 kB)\n",
            "Downloading mygene-3.2.2-py2.py3-none-any.whl (5.4 kB)\n",
            "Downloading biothings_client-0.3.1-py2.py3-none-any.whl (29 kB)\n",
            "Installing collected packages: biopython, gprofiler-official, biothings-client, mygene, Bio\n",
            "Successfully installed Bio-1.7.1 biopython-1.84 biothings-client-0.3.1 gprofiler-official-1.0.0 mygene-3.2.2\n",
            "GPU is available\n",
            "Cloning into 'NLP'...\n",
            "remote: Enumerating objects: 31, done.\u001b[K\n",
            "remote: Counting objects: 100% (31/31), done.\u001b[K\n",
            "remote: Compressing objects: 100% (24/24), done.\u001b[K\n",
            "remote: Total 31 (delta 10), reused 20 (delta 4), pack-reused 0 (from 0)\u001b[K\n",
            "Receiving objects: 100% (31/31), 5.74 MiB | 5.96 MiB/s, done.\n",
            "Resolving deltas: 100% (10/10), done.\n"
          ]
        }
      ]
    },
    {
      "cell_type": "markdown",
      "source": [
        "## Functions\n"
      ],
      "metadata": {
        "id": "kLj6Docff6An"
      }
    },
    {
      "cell_type": "code",
      "source": [
        "def extract_information(description, word):\n",
        "    match = re.search(rf'{word}:([^()|]+)', description)\n",
        "    if match:\n",
        "        return match.group(1).strip()\n",
        "    return None\n",
        "\n"
      ],
      "metadata": {
        "id": "Fom9kAoBfxV1"
      },
      "execution_count": 2,
      "outputs": []
    },
    {
      "cell_type": "code",
      "source": [
        "\n",
        "sequences = []\n",
        "total_seq = \"\"\n",
        "\n",
        "for record in tqdm(records):\n",
        "    seq = str(record.seq)\n",
        "    label = extract_information(record.description, \"Host\")\n",
        "    sequences.append((label, seq,))\n",
        "    total_seq += seq\n",
        "\n",
        "vocab_list = list(set(total_seq))\n",
        "vocab_dict = {letter: idx for idx, letter in enumerate(vocab_list)}\n",
        "\n",
        "datasets = defaultdict(list)\n",
        "for label, seq in sequences:\n",
        "    datasets[label].append((seq))\n",
        "\n",
        "data = pd.DataFrame(sequences, columns=[\"Host\", \"Sequence\" ])\n",
        "\n",
        "\n",
        "min_occ = 2000\n",
        "max_occ = 20000\n",
        "\n",
        "host_counts = data['Host'].value_counts()\n",
        "hosts_more_than_2000_entries = host_counts[(host_counts > min_occ) & (host_counts < max_occ)].index.tolist()\n",
        "filtered_data = data[data['Host'].isin(hosts_more_than_2000_entries)].reset_index(drop=True)\n",
        "filtered_data = filtered_data[filtered_data.Host != \"Unknown\"]\n",
        "filtered_hosts = filtered_data['Host'].unique()\n",
        "print(filtered_hosts)\n",
        "\n",
        "filtered_data\n",
        "\n",
        "data = filtered_data\n",
        "\n",
        "labs = {host: idx for idx, host in enumerate(filtered_hosts)}\n",
        "# Create Label column\n",
        "data['Label'] = data['Host'].apply(lambda x: labs[x])\n",
        "data = data.reset_index(drop=True)\n",
        "\n",
        "data\n",
        "\n",
        "\n"
      ],
      "metadata": {
        "colab": {
          "base_uri": "https://localhost:8080/",
          "height": 459
        },
        "id": "jNaVMwceBl6i",
        "outputId": "af0bb8c5-5785-454d-d09c-1a3e3bf3c451"
      },
      "execution_count": 3,
      "outputs": [
        {
          "output_type": "stream",
          "name": "stderr",
          "text": [
            "100%|██████████| 94560/94560 [00:01<00:00, 91908.92it/s]\n"
          ]
        },
        {
          "output_type": "stream",
          "name": "stdout",
          "text": [
            "['Swine' 'Duck' 'Mallard' 'Chicken']\n"
          ]
        },
        {
          "output_type": "execute_result",
          "data": {
            "text/plain": [
              "          Host                                           Sequence  Label\n",
              "0        Swine  MKAIILVVLLYTFTTANADTLCIGYHANNSTDTVDTVLEKNVTVTH...      0\n",
              "1         Duck  MIAIIVIAILAAAGRSDKICIGYHANNSTTQVDTILEKNVTVTHSV...      1\n",
              "2      Mallard  MEAKLFVLFCTFTVLKADTICVGYHANNSTDTVDTVLEKNVTVTHS...      2\n",
              "3         Duck  MKKTLLFAAIFLYVKADEICIGYLSNNSTDKVDTIIENNVTVTSSV...      1\n",
              "4      Mallard  MKTIIALSYIFCLAFGQDLPGSDNSTATLCLGHHAVPNGTIVKTIT...      2\n",
              "...        ...                                                ...    ...\n",
              "31545     Duck  MKKILLLAAIIICIQADEICIGYLSNNSTEKVDTIIESNVTVTSSV...      1\n",
              "31546     Duck  MLSITILFLLIAEGSSQNYTGNPVICLGHHAVSNGTMVKTLTDDQV...      1\n",
              "31547     Duck  MKTIIVLSCFFCLAFSQDLSENNNNTATLCLGHHAVPNGTIVKTIT...      1\n",
              "31548     Duck  MLSIVILFLLIAEGSSQNYTGNPVICMGHHAVANGTMVKTLTDDQV...      1\n",
              "31549  Mallard  MERIVIALAIINIVKGDQICIGYHANNSTEQVDTIMEKNVTVTHAQ...      2\n",
              "\n",
              "[31550 rows x 3 columns]"
            ],
            "text/html": [
              "\n",
              "  <div id=\"df-1235a8cd-aceb-410d-b9f7-f620bb16c157\" class=\"colab-df-container\">\n",
              "    <div>\n",
              "<style scoped>\n",
              "    .dataframe tbody tr th:only-of-type {\n",
              "        vertical-align: middle;\n",
              "    }\n",
              "\n",
              "    .dataframe tbody tr th {\n",
              "        vertical-align: top;\n",
              "    }\n",
              "\n",
              "    .dataframe thead th {\n",
              "        text-align: right;\n",
              "    }\n",
              "</style>\n",
              "<table border=\"1\" class=\"dataframe\">\n",
              "  <thead>\n",
              "    <tr style=\"text-align: right;\">\n",
              "      <th></th>\n",
              "      <th>Host</th>\n",
              "      <th>Sequence</th>\n",
              "      <th>Label</th>\n",
              "    </tr>\n",
              "  </thead>\n",
              "  <tbody>\n",
              "    <tr>\n",
              "      <th>0</th>\n",
              "      <td>Swine</td>\n",
              "      <td>MKAIILVVLLYTFTTANADTLCIGYHANNSTDTVDTVLEKNVTVTH...</td>\n",
              "      <td>0</td>\n",
              "    </tr>\n",
              "    <tr>\n",
              "      <th>1</th>\n",
              "      <td>Duck</td>\n",
              "      <td>MIAIIVIAILAAAGRSDKICIGYHANNSTTQVDTILEKNVTVTHSV...</td>\n",
              "      <td>1</td>\n",
              "    </tr>\n",
              "    <tr>\n",
              "      <th>2</th>\n",
              "      <td>Mallard</td>\n",
              "      <td>MEAKLFVLFCTFTVLKADTICVGYHANNSTDTVDTVLEKNVTVTHS...</td>\n",
              "      <td>2</td>\n",
              "    </tr>\n",
              "    <tr>\n",
              "      <th>3</th>\n",
              "      <td>Duck</td>\n",
              "      <td>MKKTLLFAAIFLYVKADEICIGYLSNNSTDKVDTIIENNVTVTSSV...</td>\n",
              "      <td>1</td>\n",
              "    </tr>\n",
              "    <tr>\n",
              "      <th>4</th>\n",
              "      <td>Mallard</td>\n",
              "      <td>MKTIIALSYIFCLAFGQDLPGSDNSTATLCLGHHAVPNGTIVKTIT...</td>\n",
              "      <td>2</td>\n",
              "    </tr>\n",
              "    <tr>\n",
              "      <th>...</th>\n",
              "      <td>...</td>\n",
              "      <td>...</td>\n",
              "      <td>...</td>\n",
              "    </tr>\n",
              "    <tr>\n",
              "      <th>31545</th>\n",
              "      <td>Duck</td>\n",
              "      <td>MKKILLLAAIIICIQADEICIGYLSNNSTEKVDTIIESNVTVTSSV...</td>\n",
              "      <td>1</td>\n",
              "    </tr>\n",
              "    <tr>\n",
              "      <th>31546</th>\n",
              "      <td>Duck</td>\n",
              "      <td>MLSITILFLLIAEGSSQNYTGNPVICLGHHAVSNGTMVKTLTDDQV...</td>\n",
              "      <td>1</td>\n",
              "    </tr>\n",
              "    <tr>\n",
              "      <th>31547</th>\n",
              "      <td>Duck</td>\n",
              "      <td>MKTIIVLSCFFCLAFSQDLSENNNNTATLCLGHHAVPNGTIVKTIT...</td>\n",
              "      <td>1</td>\n",
              "    </tr>\n",
              "    <tr>\n",
              "      <th>31548</th>\n",
              "      <td>Duck</td>\n",
              "      <td>MLSIVILFLLIAEGSSQNYTGNPVICMGHHAVANGTMVKTLTDDQV...</td>\n",
              "      <td>1</td>\n",
              "    </tr>\n",
              "    <tr>\n",
              "      <th>31549</th>\n",
              "      <td>Mallard</td>\n",
              "      <td>MERIVIALAIINIVKGDQICIGYHANNSTEQVDTIMEKNVTVTHAQ...</td>\n",
              "      <td>2</td>\n",
              "    </tr>\n",
              "  </tbody>\n",
              "</table>\n",
              "<p>31550 rows × 3 columns</p>\n",
              "</div>\n",
              "    <div class=\"colab-df-buttons\">\n",
              "\n",
              "  <div class=\"colab-df-container\">\n",
              "    <button class=\"colab-df-convert\" onclick=\"convertToInteractive('df-1235a8cd-aceb-410d-b9f7-f620bb16c157')\"\n",
              "            title=\"Convert this dataframe to an interactive table.\"\n",
              "            style=\"display:none;\">\n",
              "\n",
              "  <svg xmlns=\"http://www.w3.org/2000/svg\" height=\"24px\" viewBox=\"0 -960 960 960\">\n",
              "    <path d=\"M120-120v-720h720v720H120Zm60-500h600v-160H180v160Zm220 220h160v-160H400v160Zm0 220h160v-160H400v160ZM180-400h160v-160H180v160Zm440 0h160v-160H620v160ZM180-180h160v-160H180v160Zm440 0h160v-160H620v160Z\"/>\n",
              "  </svg>\n",
              "    </button>\n",
              "\n",
              "  <style>\n",
              "    .colab-df-container {\n",
              "      display:flex;\n",
              "      gap: 12px;\n",
              "    }\n",
              "\n",
              "    .colab-df-convert {\n",
              "      background-color: #E8F0FE;\n",
              "      border: none;\n",
              "      border-radius: 50%;\n",
              "      cursor: pointer;\n",
              "      display: none;\n",
              "      fill: #1967D2;\n",
              "      height: 32px;\n",
              "      padding: 0 0 0 0;\n",
              "      width: 32px;\n",
              "    }\n",
              "\n",
              "    .colab-df-convert:hover {\n",
              "      background-color: #E2EBFA;\n",
              "      box-shadow: 0px 1px 2px rgba(60, 64, 67, 0.3), 0px 1px 3px 1px rgba(60, 64, 67, 0.15);\n",
              "      fill: #174EA6;\n",
              "    }\n",
              "\n",
              "    .colab-df-buttons div {\n",
              "      margin-bottom: 4px;\n",
              "    }\n",
              "\n",
              "    [theme=dark] .colab-df-convert {\n",
              "      background-color: #3B4455;\n",
              "      fill: #D2E3FC;\n",
              "    }\n",
              "\n",
              "    [theme=dark] .colab-df-convert:hover {\n",
              "      background-color: #434B5C;\n",
              "      box-shadow: 0px 1px 3px 1px rgba(0, 0, 0, 0.15);\n",
              "      filter: drop-shadow(0px 1px 2px rgba(0, 0, 0, 0.3));\n",
              "      fill: #FFFFFF;\n",
              "    }\n",
              "  </style>\n",
              "\n",
              "    <script>\n",
              "      const buttonEl =\n",
              "        document.querySelector('#df-1235a8cd-aceb-410d-b9f7-f620bb16c157 button.colab-df-convert');\n",
              "      buttonEl.style.display =\n",
              "        google.colab.kernel.accessAllowed ? 'block' : 'none';\n",
              "\n",
              "      async function convertToInteractive(key) {\n",
              "        const element = document.querySelector('#df-1235a8cd-aceb-410d-b9f7-f620bb16c157');\n",
              "        const dataTable =\n",
              "          await google.colab.kernel.invokeFunction('convertToInteractive',\n",
              "                                                    [key], {});\n",
              "        if (!dataTable) return;\n",
              "\n",
              "        const docLinkHtml = 'Like what you see? Visit the ' +\n",
              "          '<a target=\"_blank\" href=https://colab.research.google.com/notebooks/data_table.ipynb>data table notebook</a>'\n",
              "          + ' to learn more about interactive tables.';\n",
              "        element.innerHTML = '';\n",
              "        dataTable['output_type'] = 'display_data';\n",
              "        await google.colab.output.renderOutput(dataTable, element);\n",
              "        const docLink = document.createElement('div');\n",
              "        docLink.innerHTML = docLinkHtml;\n",
              "        element.appendChild(docLink);\n",
              "      }\n",
              "    </script>\n",
              "  </div>\n",
              "\n",
              "\n",
              "<div id=\"df-9efb4149-8c49-40c5-80a7-5cc985735574\">\n",
              "  <button class=\"colab-df-quickchart\" onclick=\"quickchart('df-9efb4149-8c49-40c5-80a7-5cc985735574')\"\n",
              "            title=\"Suggest charts\"\n",
              "            style=\"display:none;\">\n",
              "\n",
              "<svg xmlns=\"http://www.w3.org/2000/svg\" height=\"24px\"viewBox=\"0 0 24 24\"\n",
              "     width=\"24px\">\n",
              "    <g>\n",
              "        <path d=\"M19 3H5c-1.1 0-2 .9-2 2v14c0 1.1.9 2 2 2h14c1.1 0 2-.9 2-2V5c0-1.1-.9-2-2-2zM9 17H7v-7h2v7zm4 0h-2V7h2v10zm4 0h-2v-4h2v4z\"/>\n",
              "    </g>\n",
              "</svg>\n",
              "  </button>\n",
              "\n",
              "<style>\n",
              "  .colab-df-quickchart {\n",
              "      --bg-color: #E8F0FE;\n",
              "      --fill-color: #1967D2;\n",
              "      --hover-bg-color: #E2EBFA;\n",
              "      --hover-fill-color: #174EA6;\n",
              "      --disabled-fill-color: #AAA;\n",
              "      --disabled-bg-color: #DDD;\n",
              "  }\n",
              "\n",
              "  [theme=dark] .colab-df-quickchart {\n",
              "      --bg-color: #3B4455;\n",
              "      --fill-color: #D2E3FC;\n",
              "      --hover-bg-color: #434B5C;\n",
              "      --hover-fill-color: #FFFFFF;\n",
              "      --disabled-bg-color: #3B4455;\n",
              "      --disabled-fill-color: #666;\n",
              "  }\n",
              "\n",
              "  .colab-df-quickchart {\n",
              "    background-color: var(--bg-color);\n",
              "    border: none;\n",
              "    border-radius: 50%;\n",
              "    cursor: pointer;\n",
              "    display: none;\n",
              "    fill: var(--fill-color);\n",
              "    height: 32px;\n",
              "    padding: 0;\n",
              "    width: 32px;\n",
              "  }\n",
              "\n",
              "  .colab-df-quickchart:hover {\n",
              "    background-color: var(--hover-bg-color);\n",
              "    box-shadow: 0 1px 2px rgba(60, 64, 67, 0.3), 0 1px 3px 1px rgba(60, 64, 67, 0.15);\n",
              "    fill: var(--button-hover-fill-color);\n",
              "  }\n",
              "\n",
              "  .colab-df-quickchart-complete:disabled,\n",
              "  .colab-df-quickchart-complete:disabled:hover {\n",
              "    background-color: var(--disabled-bg-color);\n",
              "    fill: var(--disabled-fill-color);\n",
              "    box-shadow: none;\n",
              "  }\n",
              "\n",
              "  .colab-df-spinner {\n",
              "    border: 2px solid var(--fill-color);\n",
              "    border-color: transparent;\n",
              "    border-bottom-color: var(--fill-color);\n",
              "    animation:\n",
              "      spin 1s steps(1) infinite;\n",
              "  }\n",
              "\n",
              "  @keyframes spin {\n",
              "    0% {\n",
              "      border-color: transparent;\n",
              "      border-bottom-color: var(--fill-color);\n",
              "      border-left-color: var(--fill-color);\n",
              "    }\n",
              "    20% {\n",
              "      border-color: transparent;\n",
              "      border-left-color: var(--fill-color);\n",
              "      border-top-color: var(--fill-color);\n",
              "    }\n",
              "    30% {\n",
              "      border-color: transparent;\n",
              "      border-left-color: var(--fill-color);\n",
              "      border-top-color: var(--fill-color);\n",
              "      border-right-color: var(--fill-color);\n",
              "    }\n",
              "    40% {\n",
              "      border-color: transparent;\n",
              "      border-right-color: var(--fill-color);\n",
              "      border-top-color: var(--fill-color);\n",
              "    }\n",
              "    60% {\n",
              "      border-color: transparent;\n",
              "      border-right-color: var(--fill-color);\n",
              "    }\n",
              "    80% {\n",
              "      border-color: transparent;\n",
              "      border-right-color: var(--fill-color);\n",
              "      border-bottom-color: var(--fill-color);\n",
              "    }\n",
              "    90% {\n",
              "      border-color: transparent;\n",
              "      border-bottom-color: var(--fill-color);\n",
              "    }\n",
              "  }\n",
              "</style>\n",
              "\n",
              "  <script>\n",
              "    async function quickchart(key) {\n",
              "      const quickchartButtonEl =\n",
              "        document.querySelector('#' + key + ' button');\n",
              "      quickchartButtonEl.disabled = true;  // To prevent multiple clicks.\n",
              "      quickchartButtonEl.classList.add('colab-df-spinner');\n",
              "      try {\n",
              "        const charts = await google.colab.kernel.invokeFunction(\n",
              "            'suggestCharts', [key], {});\n",
              "      } catch (error) {\n",
              "        console.error('Error during call to suggestCharts:', error);\n",
              "      }\n",
              "      quickchartButtonEl.classList.remove('colab-df-spinner');\n",
              "      quickchartButtonEl.classList.add('colab-df-quickchart-complete');\n",
              "    }\n",
              "    (() => {\n",
              "      let quickchartButtonEl =\n",
              "        document.querySelector('#df-9efb4149-8c49-40c5-80a7-5cc985735574 button');\n",
              "      quickchartButtonEl.style.display =\n",
              "        google.colab.kernel.accessAllowed ? 'block' : 'none';\n",
              "    })();\n",
              "  </script>\n",
              "</div>\n",
              "\n",
              "  <div id=\"id_dd54bc27-2df6-46b7-8916-57b2c27a487c\">\n",
              "    <style>\n",
              "      .colab-df-generate {\n",
              "        background-color: #E8F0FE;\n",
              "        border: none;\n",
              "        border-radius: 50%;\n",
              "        cursor: pointer;\n",
              "        display: none;\n",
              "        fill: #1967D2;\n",
              "        height: 32px;\n",
              "        padding: 0 0 0 0;\n",
              "        width: 32px;\n",
              "      }\n",
              "\n",
              "      .colab-df-generate:hover {\n",
              "        background-color: #E2EBFA;\n",
              "        box-shadow: 0px 1px 2px rgba(60, 64, 67, 0.3), 0px 1px 3px 1px rgba(60, 64, 67, 0.15);\n",
              "        fill: #174EA6;\n",
              "      }\n",
              "\n",
              "      [theme=dark] .colab-df-generate {\n",
              "        background-color: #3B4455;\n",
              "        fill: #D2E3FC;\n",
              "      }\n",
              "\n",
              "      [theme=dark] .colab-df-generate:hover {\n",
              "        background-color: #434B5C;\n",
              "        box-shadow: 0px 1px 3px 1px rgba(0, 0, 0, 0.15);\n",
              "        filter: drop-shadow(0px 1px 2px rgba(0, 0, 0, 0.3));\n",
              "        fill: #FFFFFF;\n",
              "      }\n",
              "    </style>\n",
              "    <button class=\"colab-df-generate\" onclick=\"generateWithVariable('data')\"\n",
              "            title=\"Generate code using this dataframe.\"\n",
              "            style=\"display:none;\">\n",
              "\n",
              "  <svg xmlns=\"http://www.w3.org/2000/svg\" height=\"24px\"viewBox=\"0 0 24 24\"\n",
              "       width=\"24px\">\n",
              "    <path d=\"M7,19H8.4L18.45,9,17,7.55,7,17.6ZM5,21V16.75L18.45,3.32a2,2,0,0,1,2.83,0l1.4,1.43a1.91,1.91,0,0,1,.58,1.4,1.91,1.91,0,0,1-.58,1.4L9.25,21ZM18.45,9,17,7.55Zm-12,3A5.31,5.31,0,0,0,4.9,8.1,5.31,5.31,0,0,0,1,6.5,5.31,5.31,0,0,0,4.9,4.9,5.31,5.31,0,0,0,6.5,1,5.31,5.31,0,0,0,8.1,4.9,5.31,5.31,0,0,0,12,6.5,5.46,5.46,0,0,0,6.5,12Z\"/>\n",
              "  </svg>\n",
              "    </button>\n",
              "    <script>\n",
              "      (() => {\n",
              "      const buttonEl =\n",
              "        document.querySelector('#id_dd54bc27-2df6-46b7-8916-57b2c27a487c button.colab-df-generate');\n",
              "      buttonEl.style.display =\n",
              "        google.colab.kernel.accessAllowed ? 'block' : 'none';\n",
              "\n",
              "      buttonEl.onclick = () => {\n",
              "        google.colab.notebook.generateWithVariable('data');\n",
              "      }\n",
              "      })();\n",
              "    </script>\n",
              "  </div>\n",
              "\n",
              "    </div>\n",
              "  </div>\n"
            ],
            "application/vnd.google.colaboratory.intrinsic+json": {
              "type": "dataframe",
              "variable_name": "data",
              "summary": "{\n  \"name\": \"data\",\n  \"rows\": 31550,\n  \"fields\": [\n    {\n      \"column\": \"Host\",\n      \"properties\": {\n        \"dtype\": \"category\",\n        \"num_unique_values\": 4,\n        \"samples\": [\n          \"Duck\",\n          \"Chicken\",\n          \"Swine\"\n        ],\n        \"semantic_type\": \"\",\n        \"description\": \"\"\n      }\n    },\n    {\n      \"column\": \"Sequence\",\n      \"properties\": {\n        \"dtype\": \"string\",\n        \"num_unique_values\": 21027,\n        \"samples\": [\n          \"MTTQILLLALTAIIPINADKICLGHHAIPNGTKVNTLTEKEVEVVNATETVERTNIPRICSKGKRTVDLGQCGLLGTIIGPPQCDQFLEFSADLVIERREGNDVCYPGKFVNEEALRQILRESGGIDKETMGFTYSGIRTNGATSACKRSGSSFYAEMKWLLSNSDNAAFPSTTKSYRNTRKDPALIVWGIHHSGSTAEQTKLYGSGNKLITVGSSNYQQSFVPSPGARPQVNGQSGRIDFHWLILDPNDTVTFSFNGAFIAPDRASFMRGKSMGIQSDVQVDANCEGNCYHSGGTIISNLPFQNINSRAVGKCPRYVRQESLLLATGMKNVPEGPKERGLFGAIAGFIENGWEGLIDGWYGFRHQNAQGEGIAADYKSTQSAVDQITGKLNRLIEKTNQQFELIDNEFAEVEKQIGNVINWTRDSITEVWSYNAELLVAMENQHTIDLADSEMNKLYERVRRQLRENAEEDGTGCFEIFHKCDDDCMGSIRNNTYDHSKYREEAMQNRIQIDPVKLSSGYKDVILWFSFGASCFILLAIAMGLVFMCVKNGNMRCTICI\",\n          \"MLSITILFLLIAEVSSQNYTGNPVICLGHHAVPNGTMVKTLTDDQIEVVTAQELVESQHLPELCPSPLRLVDGQTCDIVNGALGSPGCDHLNGAEWDVFIERPTAVDTCYPFDVPDYQSLRSILANNGKFEFIAEEFQWNTVKQNGKSGACKRANVNDFFNRLNWLTKSDGNAYPLQNLTKVNNGDYARLYIWGVHHPSTDTEQTNLYKNNPGRVTVSTQTSQTSVVPNIGSRPWVRGQSGRISFYWTIVEPGDLIVFNTIGNLIAPRGHYKLNSQKKSTILNTAVPIGSCVSKCHTDRGSITTAKPFQNISRISIGDCPKYVKQGSLKLATGMRNIPEKATRGLFGAIAGFIENGWQGLIDGWYGFRHQNAEGTGTAADLKSTQAAIDQINGKLNRLIEKTNEKYHQIEKEFEQVEGRIQDLEKYVEDTKIDLWSYNAELLVALENQHTIDVTDSEMNKLFERVRRQLRENAEDKGNGCFEIFHQCDNNCIESIRNGTYDHDIYRDEAINNRFQIQGVKLTQGYKDIILWISFSISCFLLVALLLAFILWACQNGNIRCQICI\",\n          \"METVSLITILLVATVSNADKICIGYQSTNSTETVDTLTENDVPVTHAKELLHTEHNGMLCATSLGQPLILDTCTIEGLIYGNPSCDLLLEGREWSYIVERPSAVNGLCYPGNVENLEELRSLFSSARSYQRIQIFPDTIWNVSYNGTSKACSGSFYRSMRWLTRKNGDYPIQDAQYTNNQGKNILFMWGINHPPTDTTQRDLYTRTDTTTSVATEEINRIFKPLIGPRPLVNGLMGRIDYYWSVLKPGQTLRIKSDGNLIAPWYGHILSGESHGRILKTDLKRGSCTVQCQTEKGGLNTTLPFQNVSKYAFGNCSKYIGIKSLKLAVGLRNVPSRSSRGLFGAIAGFIEGGWSGLVAGWYGFQHSNDQGVGMAADRDSTQKAIDKITSKVNNIVDKMNKQYEIIDHEFSEVETRLNMINNKIDDQIQDIWAYNAELLVLLENQKTLDEHDANVNNLYNKVKRALGSNAVEDGKGCFELYHKCDDQCMETIRNGTYNRRKYQEESKLKRQKIEGVKLESEGTYKILTIYSTVASSLVIAMGFAAFLFWAMSNGSCRCNICI\"\n        ],\n        \"semantic_type\": \"\",\n        \"description\": \"\"\n      }\n    },\n    {\n      \"column\": \"Label\",\n      \"properties\": {\n        \"dtype\": \"number\",\n        \"std\": 1,\n        \"min\": 0,\n        \"max\": 3,\n        \"num_unique_values\": 4,\n        \"samples\": [\n          1,\n          3,\n          0\n        ],\n        \"semantic_type\": \"\",\n        \"description\": \"\"\n      }\n    }\n  ]\n}"
            }
          },
          "metadata": {},
          "execution_count": 3
        }
      ]
    },
    {
      "cell_type": "code",
      "source": [
        "def encode_sequence(sequence, vocab=vocab_dict):\n",
        "    return np.array([vocab[aa] for aa in sequence])\n",
        "\n",
        "data['Encoded_seq'] = data['Sequence'].apply(encode_sequence)\n",
        "\n",
        "# Pad sequences\n",
        "max_seq_length = max(data['Encoded_seq'].apply(len))\n",
        "\n",
        "def pad_sequence(seq, max_length=max_seq_length):\n",
        "    return np.pad(seq, (0, max_length - len(seq)), 'constant')\n",
        "\n",
        "data['Padded_seq'] = data['Encoded_seq'].apply(pad_sequence)\n",
        "\n",
        "# Prepare data for training\n",
        "X = np.stack(data['Padded_seq'].values)\n",
        "y = data['Label'].values\n",
        "x_train, x_test, y_train, y_test = train_test_split(X, y, stratify=y)\n",
        "\n",
        "# Convert to PyTorch tensors\n",
        "x_train = torch.tensor(x_train, dtype=torch.long)\n",
        "y_train = torch.tensor(y_train, dtype=torch.long)\n",
        "x_test = torch.tensor(x_test, dtype=torch.long)\n",
        "y_test = torch.tensor(y_test, dtype=torch.long)\n",
        "\n",
        "# Create Tensor datasets\n",
        "train_data = TensorDataset(x_train, y_train)\n",
        "valid_data = TensorDataset(x_test, y_test)\n",
        "\n",
        "# Dataloaders\n",
        "batch_size = 50\n",
        "train_loader = DataLoader(train_data, shuffle=True, batch_size=batch_size)\n",
        "valid_loader = DataLoader(valid_data, shuffle=True, batch_size=batch_size)\n",
        "\n",
        "# Print the shapes of the data\n",
        "print(f'Shape of train data: {x_train.shape}')\n",
        "print(f'Shape of test data: {x_test.shape}')"
      ],
      "metadata": {
        "colab": {
          "base_uri": "https://localhost:8080/"
        },
        "id": "KdBrvy60DhI5",
        "outputId": "da2f0721-bd11-4902-bd72-8b77e8767991"
      },
      "execution_count": 4,
      "outputs": [
        {
          "output_type": "stream",
          "name": "stdout",
          "text": [
            "Shape of train data: torch.Size([23662, 576])\n",
            "Shape of test data: torch.Size([7888, 576])\n"
          ]
        }
      ]
    },
    {
      "cell_type": "code",
      "source": [
        "\n",
        "import torch\n",
        "import torch.nn as nn\n",
        "import torch.nn.functional as F\n",
        "import torch.optim as optim\n",
        "class CNN(nn.Module):\n",
        "    def __init__(self, vocab_size, embedding_dim, n_filters, filter_sizes, output_dim, dropout):\n",
        "        super().__init__()\n",
        "        self.embedding = nn.Embedding(vocab_size, embedding_dim)\n",
        "        self.conv_0 = nn.Conv2d(in_channels=1, out_channels=n_filters, kernel_size=(filter_sizes[0], embedding_dim))\n",
        "        self.conv_1 = nn.Conv2d(in_channels=1, out_channels=n_filters, kernel_size=(filter_sizes[1], embedding_dim))\n",
        "        self.conv_2 = nn.Conv2d(in_channels=1, out_channels=n_filters, kernel_size=(filter_sizes[2], embedding_dim))\n",
        "        self.fc = nn.Linear(len(filter_sizes) * n_filters, output_dim)\n",
        "        self.dropout = nn.Dropout(dropout)\n",
        "\n",
        "    def forward(self, x):\n",
        "        embedded = self.embedding(x).unsqueeze(1)\n",
        "        conved_0 = F.relu(self.conv_0(embedded).squeeze(3))\n",
        "        conved_1 = F.relu(self.conv_1(embedded).squeeze(3))\n",
        "        conved_2 = F.relu(self.conv_2(embedded).squeeze(3))\n",
        "        pooled_0 = F.max_pool1d(conved_0, conved_0.shape[2]).squeeze(2)\n",
        "        pooled_1 = F.max_pool1d(conved_1, conved_1.shape[2]).squeeze(2)\n",
        "        pooled_2 = F.max_pool1d(conved_2, conved_2.shape[2]).squeeze(2)\n",
        "        cat = self.dropout(torch.cat((pooled_0, pooled_1, pooled_2), dim=1))\n",
        "        return self.fc(cat)\n",
        "\n"
      ],
      "metadata": {
        "id": "9QxjZZ-uluWZ"
      },
      "execution_count": 5,
      "outputs": []
    },
    {
      "cell_type": "code",
      "source": [
        "# Parameters\n",
        "INPUT_DIM = len(vocab_list)\n",
        "EMBEDDING_DIM = 100\n",
        "N_FILTERS = 500\n",
        "FILTER_SIZES = [3, 4, 5]\n",
        "OUTPUT_DIM = 4\n",
        "DROPOUT = 0.2\n",
        "\n",
        "model = CNN(INPUT_DIM, EMBEDDING_DIM, N_FILTERS, FILTER_SIZES, OUTPUT_DIM, DROPOUT)\n",
        "model = model.to(device)\n",
        "\n",
        "criterion = nn.CrossEntropyLoss()\n",
        "optimizer = optim.Adam(model.parameters(), lr=0.02)\n",
        "print(device)\n"
      ],
      "metadata": {
        "id": "BZ3wss92eQAr",
        "colab": {
          "base_uri": "https://localhost:8080/"
        },
        "outputId": "bf426fff-be8a-4bf4-8587-025721b48c6c"
      },
      "execution_count": 10,
      "outputs": [
        {
          "output_type": "stream",
          "name": "stdout",
          "text": [
            "cuda\n"
          ]
        }
      ]
    },
    {
      "cell_type": "code",
      "source": [
        "def accuracy(preds, y):\n",
        "    # Get the index of the max probability\n",
        "    max_preds = preds.argmax(dim=1, keepdim=True)\n",
        "    correct = max_preds.squeeze(1).eq(y)\n",
        "    return correct.sum() / torch.FloatTensor([y.shape[0]]).to(device)\n",
        "\n",
        "def train(model, iterator, optimizer, criterion):\n",
        "    epoch_loss = 0\n",
        "    epoch_acc = 0\n",
        "    model.train()\n",
        "    for inputs, labels in iterator:\n",
        "        inputs, labels = inputs.to(device), labels.to(device)\n",
        "        optimizer.zero_grad()\n",
        "        predictions = model(inputs).squeeze(1)\n",
        "        loss = criterion(predictions, labels)\n",
        "        acc = accuracy(predictions, labels)\n",
        "        loss.backward()\n",
        "        optimizer.step()\n",
        "        epoch_loss += loss.item()\n",
        "        epoch_acc += acc.item()\n",
        "    return epoch_loss / len(iterator), epoch_acc / len(iterator)\n",
        "\n",
        "def evaluate(model, iterator, criterion):\n",
        "    epoch_loss = 0\n",
        "    epoch_acc = 0\n",
        "    model.eval()\n",
        "    with torch.no_grad():\n",
        "        for inputs, labels in iterator:\n",
        "            inputs, labels = inputs.to(device), labels.to(device)\n",
        "            predictions = model(inputs).squeeze(1)\n",
        "            loss = criterion(predictions, labels)\n",
        "            acc = accuracy(predictions, labels)\n",
        "            epoch_loss += loss.item()\n",
        "            epoch_acc += acc.item()\n",
        "    return epoch_loss / len(iterator), epoch_acc / len(iterator)\n",
        "\n",
        "N_EPOCHS = 10\n",
        "\n",
        "# Initialize lists to store the results\n",
        "train_losses = []\n",
        "train_accuracies = []\n",
        "valid_losses = []\n",
        "valid_accuracies = []\n",
        "\n",
        "for epoch in tqdm(range(N_EPOCHS)):\n",
        "    train_loss, train_acc = train(model, train_loader, optimizer, criterion)\n",
        "    valid_loss, valid_acc = evaluate(model, valid_loader, criterion)\n",
        "\n",
        "    # Append the results to the lists\n",
        "    train_losses.append(train_loss)\n",
        "    train_accuracies.append(train_acc)\n",
        "    valid_losses.append(valid_loss)\n",
        "    valid_accuracies.append(valid_acc)\n",
        "\n",
        "    print(f'| Epoch: {epoch+1:02} | Train Loss: {train_loss:.3f} | Train Acc: {train_acc*100:.2f}% | Val. Loss: {valid_loss:.3f} | Val. Acc: {valid_acc*100:.2f}% |')\n",
        "\n"
      ],
      "metadata": {
        "colab": {
          "base_uri": "https://localhost:8080/"
        },
        "id": "SC144aqRl0NJ",
        "outputId": "18ea0451-a836-4af1-f4a1-54b7a80d902a"
      },
      "execution_count": 30,
      "outputs": [
        {
          "output_type": "stream",
          "name": "stderr",
          "text": [
            " 10%|█         | 1/10 [00:16<02:29, 16.61s/it]"
          ]
        },
        {
          "output_type": "stream",
          "name": "stdout",
          "text": [
            "| Epoch: 01 | Train Loss: 0.359 | Train Acc: 85.96% | Val. Loss: 0.311 | Val. Acc: 87.87% |\n"
          ]
        },
        {
          "output_type": "stream",
          "name": "stderr",
          "text": [
            "\r 20%|██        | 2/10 [00:32<02:11, 16.47s/it]"
          ]
        },
        {
          "output_type": "stream",
          "name": "stdout",
          "text": [
            "| Epoch: 02 | Train Loss: 0.357 | Train Acc: 86.32% | Val. Loss: 0.299 | Val. Acc: 88.26% |\n"
          ]
        },
        {
          "output_type": "stream",
          "name": "stderr",
          "text": [
            "\r 30%|███       | 3/10 [00:50<01:57, 16.73s/it]"
          ]
        },
        {
          "output_type": "stream",
          "name": "stdout",
          "text": [
            "| Epoch: 03 | Train Loss: 0.358 | Train Acc: 85.99% | Val. Loss: 0.337 | Val. Acc: 84.99% |\n"
          ]
        },
        {
          "output_type": "stream",
          "name": "stderr",
          "text": [
            "\r 40%|████      | 4/10 [01:06<01:40, 16.67s/it]"
          ]
        },
        {
          "output_type": "stream",
          "name": "stdout",
          "text": [
            "| Epoch: 04 | Train Loss: 0.367 | Train Acc: 85.46% | Val. Loss: 0.305 | Val. Acc: 88.15% |\n"
          ]
        },
        {
          "output_type": "stream",
          "name": "stderr",
          "text": [
            "\r 50%|█████     | 5/10 [01:23<01:23, 16.67s/it]"
          ]
        },
        {
          "output_type": "stream",
          "name": "stdout",
          "text": [
            "| Epoch: 05 | Train Loss: 0.359 | Train Acc: 85.40% | Val. Loss: 0.304 | Val. Acc: 87.78% |\n"
          ]
        },
        {
          "output_type": "stream",
          "name": "stderr",
          "text": [
            "\r 60%|██████    | 6/10 [01:40<01:06, 16.71s/it]"
          ]
        },
        {
          "output_type": "stream",
          "name": "stdout",
          "text": [
            "| Epoch: 06 | Train Loss: 0.358 | Train Acc: 85.67% | Val. Loss: 0.302 | Val. Acc: 87.71% |\n"
          ]
        },
        {
          "output_type": "stream",
          "name": "stderr",
          "text": [
            "\r 70%|███████   | 7/10 [01:56<00:50, 16.77s/it]"
          ]
        },
        {
          "output_type": "stream",
          "name": "stdout",
          "text": [
            "| Epoch: 07 | Train Loss: 0.365 | Train Acc: 85.52% | Val. Loss: 0.293 | Val. Acc: 88.57% |\n"
          ]
        },
        {
          "output_type": "stream",
          "name": "stderr",
          "text": [
            "\r 80%|████████  | 8/10 [02:13<00:33, 16.82s/it]"
          ]
        },
        {
          "output_type": "stream",
          "name": "stdout",
          "text": [
            "| Epoch: 08 | Train Loss: 0.358 | Train Acc: 86.01% | Val. Loss: 0.306 | Val. Acc: 88.65% |\n"
          ]
        },
        {
          "output_type": "stream",
          "name": "stderr",
          "text": [
            "\r 90%|█████████ | 9/10 [02:30<00:16, 16.87s/it]"
          ]
        },
        {
          "output_type": "stream",
          "name": "stdout",
          "text": [
            "| Epoch: 09 | Train Loss: 0.356 | Train Acc: 85.84% | Val. Loss: 0.299 | Val. Acc: 88.75% |\n"
          ]
        },
        {
          "output_type": "stream",
          "name": "stderr",
          "text": [
            "100%|██████████| 10/10 [02:47<00:00, 16.79s/it]"
          ]
        },
        {
          "output_type": "stream",
          "name": "stdout",
          "text": [
            "| Epoch: 10 | Train Loss: 0.347 | Train Acc: 86.39% | Val. Loss: 0.305 | Val. Acc: 87.80% |\n"
          ]
        },
        {
          "output_type": "stream",
          "name": "stderr",
          "text": [
            "\n"
          ]
        }
      ]
    },
    {
      "cell_type": "code",
      "source": [
        "epochs = range(1, N_EPOCHS + 1)\n",
        "\n",
        "plt.figure(figsize=(14, 7))\n",
        "\n",
        "# Plot training and validation loss\n",
        "plt.subplot(1, 2, 1)\n",
        "plt.plot(epochs, train_losses, 'b', label='Training loss')\n",
        "plt.plot(epochs, valid_losses, 'r', label='Validation loss')\n",
        "plt.title('Training and Validation Loss')\n",
        "plt.xlabel('Epochs')\n",
        "plt.ylabel('Loss')\n",
        "plt.legend()\n",
        "\n",
        "# Plot training and validation accuracy\n",
        "plt.subplot(1, 2, 2)\n",
        "plt.plot(epochs, train_accuracies, 'b', label='Training accuracy')\n",
        "plt.plot(epochs, valid_accuracies, 'r', label='Validation accuracy')\n",
        "plt.title('Training and Validation Accuracy')\n",
        "plt.xlabel('Epochs')\n",
        "plt.ylabel('Accuracy')\n",
        "plt.legend()\n",
        "\n",
        "#plt.show()\n"
      ],
      "metadata": {
        "id": "xX-kqmHQoCT9"
      },
      "execution_count": null,
      "outputs": []
    },
    {
      "cell_type": "code",
      "source": [
        "from sklearn.metrics import confusion_matrix, ConfusionMatrixDisplay\n",
        "\n",
        "def plot_confusion_matrix_by_subtype(model, loader):\n",
        "    model.eval()\n",
        "    all_preds = []\n",
        "    all_labels = []\n",
        "\n",
        "    with torch.no_grad():\n",
        "        for inputs, labels in loader:\n",
        "            inputs, labels = inputs.to(device), labels.to(device)\n",
        "            predictions = model(inputs)\n",
        "            _, preds = torch.max(predictions, 1)\n",
        "            all_preds.extend(preds.cpu().numpy())\n",
        "            all_labels.extend(labels.cpu().numpy())\n",
        "\n",
        "    # Compute the confusion matrix\n",
        "    cm = confusion_matrix(all_labels, all_preds)\n",
        "\n",
        "    # Display the confusion matrix\n",
        "    disp = ConfusionMatrixDisplay(confusion_matrix=cm, display_labels=[h for h in filtered_hosts])\n",
        "    disp.plot(cmap=plt.cm.Reds)\n",
        "    plt.title(\"Confusion Matrix\")\n",
        "    plt.show()\n",
        "\n",
        "# Plot confusion matrix for validation data by subtype\n",
        "plot_confusion_matrix_by_subtype(model, valid_loader)\n"
      ],
      "metadata": {
        "id": "BoLut1RQ3nH3",
        "colab": {
          "base_uri": "https://localhost:8080/",
          "height": 472
        },
        "outputId": "c345ada3-390a-4783-9580-8423e80ceff2"
      },
      "execution_count": 32,
      "outputs": [
        {
          "output_type": "display_data",
          "data": {
            "text/plain": [
              "<Figure size 640x480 with 2 Axes>"
            ],
            "image/png": "[encoded data removed]"
          },
          "metadata": {}
        }
      ]
    },
    {
      "cell_type": "markdown",
      "source": [
        "#Model on generated data"
      ],
      "metadata": {
        "id": "l0s6RxmI81Ai"
      }
    },
    {
      "cell_type": "code",
      "source": [
        "gen_data = pd.read_csv('NLP/generated_sequences.csv')\n",
        "\n",
        "gen_data['Label'] = gen_data['Host'].apply(lambda x: labs[x])\n",
        "\n",
        "gen_data['Encoded_seq'] = gen_data['Sequence'].apply(encode_sequence)\n",
        "gen_data['Padded_seq'] = gen_data['Encoded_seq'].apply(pad_sequence)\n",
        "\n",
        "X_gen = np.stack(gen_data['Padded_seq'].values)\n",
        "y_gen = gen_data['Label'].values\n",
        "\n",
        "x_gen = torch.tensor(X_gen, dtype=torch.long)\n",
        "y_gen = torch.tensor(y_gen, dtype=torch.long)\n",
        "\n",
        "gen_data_tensor = TensorDataset(x_gen, y_gen)\n",
        "\n",
        "batch_size = 50\n",
        "gen_loader = DataLoader(gen_data_tensor, shuffle=False, batch_size=batch_size)\n",
        "\n",
        "print(f'Shape of generated test data: {x_gen.shape}')\n",
        "\n"
      ],
      "metadata": {
        "colab": {
          "base_uri": "https://localhost:8080/"
        },
        "id": "5zipcHUA5yWm",
        "outputId": "e3f45414-2751-42b3-d986-893a65dbed57"
      },
      "execution_count": 33,
      "outputs": [
        {
          "output_type": "stream",
          "name": "stdout",
          "text": [
            "Shape of generated test data: torch.Size([4000, 576])\n"
          ]
        }
      ]
    },
    {
      "cell_type": "code",
      "source": [
        "model.eval()\n",
        "gen_loss, gen_acc = evaluate(model, gen_loader, criterion)\n",
        "print(f'Generated Data Performance: | Test Loss: {gen_loss:.3f} | Test Acc: {gen_acc*100:.2f}% |')\n"
      ],
      "metadata": {
        "colab": {
          "base_uri": "https://localhost:8080/"
        },
        "id": "fl0Fhty26M6b",
        "outputId": "e345f969-cc33-42f8-d268-004c685ca95d"
      },
      "execution_count": 34,
      "outputs": [
        {
          "output_type": "stream",
          "name": "stdout",
          "text": [
            "Generated Data Performance: | Test Loss: 2.264 | Test Acc: 32.15% |\n"
          ]
        }
      ]
    },
    {
      "cell_type": "code",
      "source": [
        "plot_confusion_matrix_by_subtype(model, gen_loader)\n"
      ],
      "metadata": {
        "colab": {
          "base_uri": "https://localhost:8080/",
          "height": 472
        },
        "id": "Yq2b8If07qsd",
        "outputId": "d11ec983-7359-44ca-fdf0-58b4575929dc"
      },
      "execution_count": 35,
      "outputs": [
        {
          "output_type": "display_data",
          "data": {
            "text/plain": [
              "<Figure size 640x480 with 2 Axes>"
            ],
            "image/png": "[encoded data removed]"
          },
          "metadata": {}
        }
      ]
    }
  ],
  "metadata": {
    "kernelspec": {
      "display_name": "Python 3",
      "name": "python3"
    },
    "language_info": {
      "codemirror_mode": {
        "name": "ipython",
        "version": 3
      },
      "file_extension": ".py",
      "mimetype": "text/x-python",
      "name": "python",
      "nbconvert_exporter": "python",
      "pygments_lexer": "ipython3",
      "version": "3.10.13"
    },
    "colab": {
      "provenance": [],
      "gpuType": "T4",
      "include_colab_link": true
    },
    "accelerator": "GPU"
  },
  "nbformat": 4,
  "nbformat_minor": 0
}