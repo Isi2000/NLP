{
 "cells": [
  {
   "cell_type": "code",
   "execution_count": 9,
   "metadata": {},
   "outputs": [],
   "source": [
    "import numpy as np\n",
    "import matplotlib.pyplot as plt\n",
    "import pandas as pd\n",
    "from collections import defaultdict, Counter\n",
    "from tqdm import tqdm\n",
    "import itertools\n",
    "import seaborn as sns\n"
   ]
  },
  {
   "cell_type": "code",
   "execution_count": 10,
   "metadata": {},
   "outputs": [],
   "source": [
    "def extract_information(description, word):\n",
    "    # Regular expression to match the host information\n",
    "    match = re.search(rf'{word}:([^()|]+)', description)\n",
    "    if match:\n",
    "        return match.group(1).strip()\n",
    "    return None"
   ]
  },
  {
   "cell_type": "code",
   "execution_count": 11,
   "metadata": {},
   "outputs": [
    {
     "name": "stdout",
     "output_type": "stream",
     "text": [
      "ID: gb:CY066935|ncbiId:ADK33671.1|UniProtKB:D8KV23|Organism:Influenza\n",
      "Name: gb:CY066935|ncbiId:ADK33671.1|UniProtKB:D8KV23|Organism:Influenza\n",
      "Description: gb:CY066935|ncbiId:ADK33671.1|UniProtKB:D8KV23|Organism:Influenza A virus (A/Aarhus/INS236/2009(H1N1))|Strain Name:A/Aarhus/INS236/2009|Protein Name:HA Hemagglutinin|Gene Symbol:HA|Segment:4|Subtype:H1N1|Host:Human\n",
      "Number of features: 0\n",
      "Seq('MKAILVVLLYTFATANADTLCIGYHANNSTDTVDTVLEKNVTVTHSVNLLEDKH...ICI')\n"
     ]
    }
   ],
   "source": [
    "from Bio import SeqIO\n",
    "import re\n",
    "#Data\n",
    "records = list(SeqIO.parse(\"./ird_influenzaA_HA_allspecies.fa\", \"fasta\"))\n",
    "print(records[10])\n",
    "\n"
   ]
  },
  {
   "cell_type": "code",
   "execution_count": 12,
   "metadata": {},
   "outputs": [
    {
     "name": "stderr",
     "output_type": "stream",
     "text": [
      "  0%|          | 0/94560 [00:00<?, ?it/s]"
     ]
    },
    {
     "name": "stderr",
     "output_type": "stream",
     "text": [
      "100%|██████████| 94560/94560 [00:00<00:00, 250453.33it/s]\n"
     ]
    }
   ],
   "source": [
    "sequences = []\n",
    "for record in tqdm(records):\n",
    "    seq = str(record.seq)\n",
    "    label = extract_information(record.description, \"Host\")\n",
    "    type = extract_information(record.description, \"Subtype\")\n",
    "    sequences.append((label, type, seq))\n"
   ]
  },
  {
   "cell_type": "code",
   "execution_count": 13,
   "metadata": {},
   "outputs": [
    {
     "name": "stderr",
     "output_type": "stream",
     "text": [
      "100%|██████████| 94560/94560 [00:00<00:00, 628572.27it/s]"
     ]
    },
    {
     "name": "stdout",
     "output_type": "stream",
     "text": [
      "['W', 'L', 'P', 'K', 'J', 'Q', 'C', 'M', 'I', 'S', 'B', 'Y', 'E', 'A', 'R', 'N', 'X', 'G', 'T', 'D', 'H', 'F', 'V', 'Z']\n",
      "24\n"
     ]
    },
    {
     "name": "stderr",
     "output_type": "stream",
     "text": [
      "\n"
     ]
    }
   ],
   "source": [
    "total_seq = \"\"\n",
    "for record in tqdm(records):\n",
    "    total_seq += str(record.seq)\n",
    "vocab = list(set(total_seq))\n",
    "print(vocab)\n",
    "print(len(vocab))\n",
    "vocab_dict = {v: idx for idx, v in enumerate(vocab)}"
   ]
  },
  {
   "cell_type": "code",
   "execution_count": 14,
   "metadata": {},
   "outputs": [
    {
     "data": {
      "text/html": [
       "<div>\n",
       "<style scoped>\n",
       "    .dataframe tbody tr th:only-of-type {\n",
       "        vertical-align: middle;\n",
       "    }\n",
       "\n",
       "    .dataframe tbody tr th {\n",
       "        vertical-align: top;\n",
       "    }\n",
       "\n",
       "    .dataframe thead th {\n",
       "        text-align: right;\n",
       "    }\n",
       "</style>\n",
       "<table border=\"1\" class=\"dataframe\">\n",
       "  <thead>\n",
       "    <tr style=\"text-align: right;\">\n",
       "      <th></th>\n",
       "      <th>Host</th>\n",
       "      <th>Type</th>\n",
       "      <th>Sequence</th>\n",
       "    </tr>\n",
       "  </thead>\n",
       "  <tbody>\n",
       "    <tr>\n",
       "      <th>0</th>\n",
       "      <td>Sea Mammal</td>\n",
       "      <td>H7N7</td>\n",
       "      <td>MNTQILVFIACVLIEAKGDKICLGHHAVANGTKVNTLTERGIEVVN...</td>\n",
       "    </tr>\n",
       "    <tr>\n",
       "      <th>1</th>\n",
       "      <td>Human</td>\n",
       "      <td>H1N1</td>\n",
       "      <td>MKAKLLVLLYAFVATDADTICIGYHANNSTDTVDTIFEKNVAVTHS...</td>\n",
       "    </tr>\n",
       "    <tr>\n",
       "      <th>2</th>\n",
       "      <td>Human</td>\n",
       "      <td>H1N1</td>\n",
       "      <td>MKARLLVLLCALAATDADTICIGYHANNSTDTVDTVLEKNVTVTHS...</td>\n",
       "    </tr>\n",
       "    <tr>\n",
       "      <th>3</th>\n",
       "      <td>Human</td>\n",
       "      <td>H1N1</td>\n",
       "      <td>MKARLLVLLCALAATDADTICIGYHANNSTDTVDTVLEKNVTVTHS...</td>\n",
       "    </tr>\n",
       "    <tr>\n",
       "      <th>4</th>\n",
       "      <td>Human</td>\n",
       "      <td>H1N1</td>\n",
       "      <td>MKAILVVLLYTFVTANADTLCIGYHANNSTDTVDTVLEKNVTVTHS...</td>\n",
       "    </tr>\n",
       "    <tr>\n",
       "      <th>...</th>\n",
       "      <td>...</td>\n",
       "      <td>...</td>\n",
       "      <td>...</td>\n",
       "    </tr>\n",
       "    <tr>\n",
       "      <th>94555</th>\n",
       "      <td>Human</td>\n",
       "      <td>H1N1</td>\n",
       "      <td>MKAILVVLLYTFATANADTLCIGYHANNSTDTVDTVLEKNVTVTHS...</td>\n",
       "    </tr>\n",
       "    <tr>\n",
       "      <th>94556</th>\n",
       "      <td>Human</td>\n",
       "      <td>H1N1</td>\n",
       "      <td>MKAILVVLLYTFATANADTLCIGYHANNSTDTVDTVLEKNVTVTHS...</td>\n",
       "    </tr>\n",
       "    <tr>\n",
       "      <th>94557</th>\n",
       "      <td>Human</td>\n",
       "      <td>H1N1</td>\n",
       "      <td>MKAILVVLLYTFATANADTLCIGYHANNSTDTVDTVLEKNVTVTHS...</td>\n",
       "    </tr>\n",
       "    <tr>\n",
       "      <th>94558</th>\n",
       "      <td>Mallard</td>\n",
       "      <td>H5N9</td>\n",
       "      <td>MERIVIALAIINIVKGDQICIGYHANNSTEQVDTIMEKNVTVTHAQ...</td>\n",
       "    </tr>\n",
       "    <tr>\n",
       "      <th>94559</th>\n",
       "      <td>None</td>\n",
       "      <td>None</td>\n",
       "      <td>MKTIIALSYILCLVFAQKLPGNDNSTATLCLGHHAVPNGTIVKTIT...</td>\n",
       "    </tr>\n",
       "  </tbody>\n",
       "</table>\n",
       "<p>94560 rows × 3 columns</p>\n",
       "</div>"
      ],
      "text/plain": [
       "             Host  Type                                           Sequence\n",
       "0      Sea Mammal  H7N7  MNTQILVFIACVLIEAKGDKICLGHHAVANGTKVNTLTERGIEVVN...\n",
       "1           Human  H1N1  MKAKLLVLLYAFVATDADTICIGYHANNSTDTVDTIFEKNVAVTHS...\n",
       "2           Human  H1N1  MKARLLVLLCALAATDADTICIGYHANNSTDTVDTVLEKNVTVTHS...\n",
       "3           Human  H1N1  MKARLLVLLCALAATDADTICIGYHANNSTDTVDTVLEKNVTVTHS...\n",
       "4           Human  H1N1  MKAILVVLLYTFVTANADTLCIGYHANNSTDTVDTVLEKNVTVTHS...\n",
       "...           ...   ...                                                ...\n",
       "94555       Human  H1N1  MKAILVVLLYTFATANADTLCIGYHANNSTDTVDTVLEKNVTVTHS...\n",
       "94556       Human  H1N1  MKAILVVLLYTFATANADTLCIGYHANNSTDTVDTVLEKNVTVTHS...\n",
       "94557       Human  H1N1  MKAILVVLLYTFATANADTLCIGYHANNSTDTVDTVLEKNVTVTHS...\n",
       "94558     Mallard  H5N9  MERIVIALAIINIVKGDQICIGYHANNSTEQVDTIMEKNVTVTHAQ...\n",
       "94559        None  None  MKTIIALSYILCLVFAQKLPGNDNSTATLCLGHHAVPNGTIVKTIT...\n",
       "\n",
       "[94560 rows x 3 columns]"
      ]
     },
     "execution_count": 14,
     "metadata": {},
     "output_type": "execute_result"
    }
   ],
   "source": [
    "\n",
    "datasets = defaultdict(list)\n",
    "for label, type, seq in sequences:\n",
    "    datasets[label].append(seq)\n",
    "\n",
    "data = pd.DataFrame(sequences, columns=[\"Host\", \"Type\" ,\"Sequence\"])\n",
    "data\n"
   ]
  },
  {
   "cell_type": "code",
   "execution_count": 19,
   "metadata": {},
   "outputs": [
    {
     "name": "stdout",
     "output_type": "stream",
     "text": [
      "Hosts with more than 2000 entries:\n",
      "Swine: 13173\n",
      "Duck: 3928\n",
      "Mallard: 4626\n",
      "Chicken: 9823\n",
      "4\n"
     ]
    }
   ],
   "source": [
    "min_occ = 2000\n",
    "max_occ = 20000\n",
    "\n",
    "host_counts = data['Host'].value_counts()\n",
    "hosts_more_than_2000_entries = host_counts[(host_counts > min_occ) & (host_counts < max_occ)].index.tolist()\n",
    "filtered_data = data[data['Host'].isin(hosts_more_than_2000_entries)].reset_index(drop=True)\n",
    "\n",
    "filtered_data = filtered_data[filtered_data.Host != \"Unknown\"]\n",
    "filtered_hosts = filtered_data['Host'].unique()\n",
    "print(\"Hosts with more than 2000 entries:\")\n",
    "# Assuming filtered_hosts is a list of unique hosts\n",
    "host_counts = filtered_data[\"Host\"].value_counts()\n",
    "\n",
    "c = 0\n",
    "for i in filtered_hosts:\n",
    "    print(f\"{i}: {host_counts.get(i, 0)}\")\n",
    "    c+=1\n",
    "print(c)\n"
   ]
  },
  {
   "cell_type": "code",
   "execution_count": 20,
   "metadata": {},
   "outputs": [
    {
     "name": "stderr",
     "output_type": "stream",
     "text": [
      "Processing species:   0%|          | 0/4 [00:00<?, ?it/s]/tmp/ipykernel_3926/2796823887.py:7: UserWarning: Boolean Series key will be reindexed to match DataFrame index.\n",
      "  species_data = data_for_cluster[filtered_data[\"Host\"] == species][\"Sequence\"].values\n",
      "Processing species:   0%|          | 0/4 [00:00<?, ?it/s]\n"
     ]
    },
    {
     "ename": "IndexingError",
     "evalue": "Unalignable boolean Series provided as indexer (index of the boolean Series and of the indexed object do not match).",
     "output_type": "error",
     "traceback": [
      "\u001b[0;31m---------------------------------------------------------------------------\u001b[0m",
      "\u001b[0;31mIndexingError\u001b[0m                             Traceback (most recent call last)",
      "Cell \u001b[0;32mIn[20], line 7\u001b[0m\n\u001b[1;32m      4\u001b[0m pairs \u001b[38;5;241m=\u001b[39m {}\n\u001b[1;32m      6\u001b[0m \u001b[38;5;66;03m# Extract and concatenate the 3-grams for the current species\u001b[39;00m\n\u001b[0;32m----> 7\u001b[0m species_data \u001b[38;5;241m=\u001b[39m \u001b[43mdata_for_cluster\u001b[49m\u001b[43m[\u001b[49m\u001b[43mfiltered_data\u001b[49m\u001b[43m[\u001b[49m\u001b[38;5;124;43m\"\u001b[39;49m\u001b[38;5;124;43mHost\u001b[39;49m\u001b[38;5;124;43m\"\u001b[39;49m\u001b[43m]\u001b[49m\u001b[43m \u001b[49m\u001b[38;5;241;43m==\u001b[39;49m\u001b[43m \u001b[49m\u001b[43mspecies\u001b[49m\u001b[43m]\u001b[49m[\u001b[38;5;124m\"\u001b[39m\u001b[38;5;124mSequence\u001b[39m\u001b[38;5;124m\"\u001b[39m]\u001b[38;5;241m.\u001b[39mvalues\n\u001b[1;32m      9\u001b[0m \u001b[38;5;66;03m# Convert each sequence to a list of characters and then concatenate\u001b[39;00m\n\u001b[1;32m     10\u001b[0m concat_data \u001b[38;5;241m=\u001b[39m np\u001b[38;5;241m.\u001b[39mconcatenate([\u001b[38;5;28mlist\u001b[39m(seq) \u001b[38;5;28;01mfor\u001b[39;00m seq \u001b[38;5;129;01min\u001b[39;00m species_data])\n",
      "File \u001b[0;32m~/miniconda3/lib/python3.10/site-packages/pandas/core/frame.py:3798\u001b[0m, in \u001b[0;36mDataFrame.__getitem__\u001b[0;34m(self, key)\u001b[0m\n\u001b[1;32m   3796\u001b[0m \u001b[38;5;66;03m# Do we have a (boolean) 1d indexer?\u001b[39;00m\n\u001b[1;32m   3797\u001b[0m \u001b[38;5;28;01mif\u001b[39;00m com\u001b[38;5;241m.\u001b[39mis_bool_indexer(key):\n\u001b[0;32m-> 3798\u001b[0m     \u001b[38;5;28;01mreturn\u001b[39;00m \u001b[38;5;28;43mself\u001b[39;49m\u001b[38;5;241;43m.\u001b[39;49m\u001b[43m_getitem_bool_array\u001b[49m\u001b[43m(\u001b[49m\u001b[43mkey\u001b[49m\u001b[43m)\u001b[49m\n\u001b[1;32m   3800\u001b[0m \u001b[38;5;66;03m# We are left with two options: a single key, and a collection of keys,\u001b[39;00m\n\u001b[1;32m   3801\u001b[0m \u001b[38;5;66;03m# We interpret tuples as collections only for non-MultiIndex\u001b[39;00m\n\u001b[1;32m   3802\u001b[0m is_single_key \u001b[38;5;241m=\u001b[39m \u001b[38;5;28misinstance\u001b[39m(key, \u001b[38;5;28mtuple\u001b[39m) \u001b[38;5;129;01mor\u001b[39;00m \u001b[38;5;129;01mnot\u001b[39;00m is_list_like(key)\n",
      "File \u001b[0;32m~/miniconda3/lib/python3.10/site-packages/pandas/core/frame.py:3851\u001b[0m, in \u001b[0;36mDataFrame._getitem_bool_array\u001b[0;34m(self, key)\u001b[0m\n\u001b[1;32m   3845\u001b[0m     \u001b[38;5;28;01mraise\u001b[39;00m \u001b[38;5;167;01mValueError\u001b[39;00m(\n\u001b[1;32m   3846\u001b[0m         \u001b[38;5;124mf\u001b[39m\u001b[38;5;124m\"\u001b[39m\u001b[38;5;124mItem wrong length \u001b[39m\u001b[38;5;132;01m{\u001b[39;00m\u001b[38;5;28mlen\u001b[39m(key)\u001b[38;5;132;01m}\u001b[39;00m\u001b[38;5;124m instead of \u001b[39m\u001b[38;5;132;01m{\u001b[39;00m\u001b[38;5;28mlen\u001b[39m(\u001b[38;5;28mself\u001b[39m\u001b[38;5;241m.\u001b[39mindex)\u001b[38;5;132;01m}\u001b[39;00m\u001b[38;5;124m.\u001b[39m\u001b[38;5;124m\"\u001b[39m\n\u001b[1;32m   3847\u001b[0m     )\n\u001b[1;32m   3849\u001b[0m \u001b[38;5;66;03m# check_bool_indexer will throw exception if Series key cannot\u001b[39;00m\n\u001b[1;32m   3850\u001b[0m \u001b[38;5;66;03m# be reindexed to match DataFrame rows\u001b[39;00m\n\u001b[0;32m-> 3851\u001b[0m key \u001b[38;5;241m=\u001b[39m \u001b[43mcheck_bool_indexer\u001b[49m\u001b[43m(\u001b[49m\u001b[38;5;28;43mself\u001b[39;49m\u001b[38;5;241;43m.\u001b[39;49m\u001b[43mindex\u001b[49m\u001b[43m,\u001b[49m\u001b[43m \u001b[49m\u001b[43mkey\u001b[49m\u001b[43m)\u001b[49m\n\u001b[1;32m   3852\u001b[0m indexer \u001b[38;5;241m=\u001b[39m key\u001b[38;5;241m.\u001b[39mnonzero()[\u001b[38;5;241m0\u001b[39m]\n\u001b[1;32m   3853\u001b[0m \u001b[38;5;28;01mreturn\u001b[39;00m \u001b[38;5;28mself\u001b[39m\u001b[38;5;241m.\u001b[39m_take_with_is_copy(indexer, axis\u001b[38;5;241m=\u001b[39m\u001b[38;5;241m0\u001b[39m)\n",
      "File \u001b[0;32m~/miniconda3/lib/python3.10/site-packages/pandas/core/indexing.py:2552\u001b[0m, in \u001b[0;36mcheck_bool_indexer\u001b[0;34m(index, key)\u001b[0m\n\u001b[1;32m   2550\u001b[0m indexer \u001b[38;5;241m=\u001b[39m result\u001b[38;5;241m.\u001b[39mindex\u001b[38;5;241m.\u001b[39mget_indexer_for(index)\n\u001b[1;32m   2551\u001b[0m \u001b[38;5;28;01mif\u001b[39;00m \u001b[38;5;241m-\u001b[39m\u001b[38;5;241m1\u001b[39m \u001b[38;5;129;01min\u001b[39;00m indexer:\n\u001b[0;32m-> 2552\u001b[0m     \u001b[38;5;28;01mraise\u001b[39;00m IndexingError(\n\u001b[1;32m   2553\u001b[0m         \u001b[38;5;124m\"\u001b[39m\u001b[38;5;124mUnalignable boolean Series provided as \u001b[39m\u001b[38;5;124m\"\u001b[39m\n\u001b[1;32m   2554\u001b[0m         \u001b[38;5;124m\"\u001b[39m\u001b[38;5;124mindexer (index of the boolean Series and of \u001b[39m\u001b[38;5;124m\"\u001b[39m\n\u001b[1;32m   2555\u001b[0m         \u001b[38;5;124m\"\u001b[39m\u001b[38;5;124mthe indexed object do not match).\u001b[39m\u001b[38;5;124m\"\u001b[39m\n\u001b[1;32m   2556\u001b[0m     )\n\u001b[1;32m   2558\u001b[0m result \u001b[38;5;241m=\u001b[39m result\u001b[38;5;241m.\u001b[39mtake(indexer)\n\u001b[1;32m   2560\u001b[0m \u001b[38;5;66;03m# fall through for boolean\u001b[39;00m\n",
      "\u001b[0;31mIndexingError\u001b[0m: Unalignable boolean Series provided as indexer (index of the boolean Series and of the indexed object do not match)."
     ]
    }
   ],
   "source": [
    "transition_matrices = {}\n",
    "\n",
    "for species in tqdm(filtered_hosts, desc='Processing species'):\n",
    "    pairs = {}\n",
    "\n",
    "    # Extract and concatenate the 3-grams for the current species\n",
    "    species_data = data_for_cluster[filtered_data[\"Host\"] == species][\"Sequence\"].values\n",
    "    \n",
    "    # Convert each sequence to a list of characters and then concatenate\n",
    "    concat_data = np.concatenate([list(seq) for seq in species_data])\n",
    "\n",
    "    if len(concat_data) == 0:\n",
    "        # Skip species with no data\n",
    "        print(f\"No data available for species: {species}\")\n",
    "        continue\n",
    "    \n",
    "    # Initialize the transition matrix\n",
    "    transition_matrix = np.zeros((len(vocab), len(vocab)))  # Assuming 256 possible characters\n",
    "    \n",
    "    # Calculate transitions\n",
    "    for current_state, next_state in tqdm(zip(concat_data[:-1], concat_data[1:]), desc=f'Building transition matrix for {species}', leave=False, total=len(concat_data) - 1):\n",
    "        transition_matrix[vocab_dict[current_state], vocab_dict[next_state]] += 1\n",
    "\n",
    "    # Store the transition matrix\n",
    "    transition_matrices[species] = transition_matrix\n"
   ]
  },
  {
   "cell_type": "code",
   "execution_count": 21,
   "metadata": {},
   "outputs": [
    {
     "data": {
      "image/png": "[encoded data removed]",
      "text/plain": [
       "<Figure size 1000x600 with 1 Axes>"
      ]
     },
     "metadata": {},
     "output_type": "display_data"
    }
   ],
   "source": [
    "data_for_cluster = filtered_data.reset_index()\n",
    "plt.figure(figsize=(10, 6))\n",
    "data_for_cluster['Host'].value_counts().plot(kind='bar')\n",
    "plt.title('Host Distribution')\n",
    "plt.xlabel('Host')\n",
    "plt.ylabel('Counts')\n",
    "plt.show()"
   ]
  },
  {
   "cell_type": "code",
   "execution_count": 25,
   "metadata": {},
   "outputs": [
    {
     "name": "stderr",
     "output_type": "stream",
     "text": [
      "Processing species: 100%|██████████| 4/4 [00:21<00:00,  5.25s/it]\n"
     ]
    }
   ],
   "source": [
    "transition_matrices = {}\n",
    "\n",
    "for species in tqdm(filtered_hosts, desc='Processing species'):\n",
    "    pairs = {}\n",
    "\n",
    "    # Extract and concatenate the 3-grams for the current species\n",
    "    species_data = data_for_cluster[filtered_data[\"Host\"] == species][\"Sequence\"].values\n",
    "    \n",
    "    # Convert each sequence to a list of characters and then concatenate\n",
    "    concat_data = np.concatenate([list(seq) for seq in species_data])\n",
    "\n",
    "    if len(concat_data) == 0:\n",
    "        # Skip species with no data\n",
    "        print(f\"No data available for species: {species}\")\n",
    "        continue\n",
    "    \n",
    "    # Initialize the transition matrix\n",
    "    transition_matrix = np.zeros((len(vocab), len(vocab)))  # Assuming 256 possible characters\n",
    "    \n",
    "    # Calculate transitions\n",
    "    for current_state, next_state in tqdm(zip(concat_data[:-1], concat_data[1:]), desc=f'Building transition matrix for {species}', leave=False, total=len(concat_data) - 1):\n",
    "        transition_matrix[vocab_dict[current_state], vocab_dict[next_state]] += 1\n",
    "\n",
    "    # Store the transition matrix\n",
    "    transition_matrices[species] = transition_matrix"
   ]
  },
  {
   "cell_type": "code",
   "execution_count": 22,
   "metadata": {},
   "outputs": [],
   "source": [
    "# Function to calculate and visualize differences between transition matrices\n",
    "def visualize_transition_matrix_differences(transition_matrices, vocab):\n",
    "    species_pairs = list(itertools.combinations(transition_matrices.keys(), 2))\n",
    "    \n",
    "    for species1, species2 in species_pairs:\n",
    "        matrix1 = transition_matrices[species1]\n",
    "        matrix2 = transition_matrices[species2]\n",
    "        \n",
    "        # Calculate the difference\n",
    "        difference_matrix = matrix1 - matrix2\n",
    "        \n",
    "        # Plot the difference matrix\n",
    "        plt.figure(figsize=(10, 8))\n",
    "        sns.heatmap(difference_matrix, xticklabels=vocab, yticklabels=vocab, cmap=\"magma\", center=0)\n",
    "        plt.title(f'Difference in Transition Matrix: {species1} vs {species2}')\n",
    "        plt.xlabel('Next State')\n",
    "        plt.ylabel('Current State')\n",
    "        plt.show()\n"
   ]
  },
  {
   "cell_type": "code",
   "execution_count": 23,
   "metadata": {},
   "outputs": [],
   "source": [
    "def normalize_transition_matrices(transition_matrices):\n",
    "    normalized_matrices = {}\n",
    "    for species, matrix in transition_matrices.items():\n",
    "        row_sums = matrix.sum(axis=1)\n",
    "        # Avoid division by zero\n",
    "        row_sums[row_sums == 0] = 1\n",
    "        normalized_matrix = matrix / row_sums[:, np.newaxis]\n",
    "        normalized_matrices[species] = normalized_matrix\n",
    "    return normalized_matrices\n",
    "\n",
    "normalized_transition_matrices = normalize_transition_matrices(transition_matrices)\n",
    "#visualize_transition_matrix_differences(normalized_transition_matrices, vocab)\n"
   ]
  },
  {
   "cell_type": "code",
   "execution_count": 24,
   "metadata": {},
   "outputs": [
    {
     "ename": "ZeroDivisionError",
     "evalue": "division by zero",
     "output_type": "error",
     "traceback": [
      "\u001b[0;31m---------------------------------------------------------------------------\u001b[0m",
      "\u001b[0;31mZeroDivisionError\u001b[0m                         Traceback (most recent call last)",
      "Cell \u001b[0;32mIn[24], line 46\u001b[0m\n\u001b[1;32m     43\u001b[0m     plt\u001b[38;5;241m.\u001b[39mshow()\n\u001b[1;32m     45\u001b[0m normalized_transition_matrices \u001b[38;5;241m=\u001b[39m normalize_transition_matrices(transition_matrices)\n\u001b[0;32m---> 46\u001b[0m \u001b[43mvisualize_transition_matrix_differences\u001b[49m\u001b[43m(\u001b[49m\u001b[43mnormalized_transition_matrices\u001b[49m\u001b[43m,\u001b[49m\u001b[43m \u001b[49m\u001b[43mvocab\u001b[49m\u001b[43m)\u001b[49m\n",
      "Cell \u001b[0;32mIn[24], line 20\u001b[0m, in \u001b[0;36mvisualize_transition_matrix_differences\u001b[0;34m(transition_matrices, vocab)\u001b[0m\n\u001b[1;32m     18\u001b[0m \u001b[38;5;66;03m# Determine grid size\u001b[39;00m\n\u001b[1;32m     19\u001b[0m cols \u001b[38;5;241m=\u001b[39m math\u001b[38;5;241m.\u001b[39mceil(math\u001b[38;5;241m.\u001b[39msqrt(num_pairs))\n\u001b[0;32m---> 20\u001b[0m rows \u001b[38;5;241m=\u001b[39m math\u001b[38;5;241m.\u001b[39mceil(\u001b[43mnum_pairs\u001b[49m\u001b[43m \u001b[49m\u001b[38;5;241;43m/\u001b[39;49m\u001b[43m \u001b[49m\u001b[43mcols\u001b[49m)\n\u001b[1;32m     22\u001b[0m fig, axes \u001b[38;5;241m=\u001b[39m plt\u001b[38;5;241m.\u001b[39msubplots(rows, cols, figsize\u001b[38;5;241m=\u001b[39m(\u001b[38;5;241m5\u001b[39m \u001b[38;5;241m*\u001b[39m cols, \u001b[38;5;241m5\u001b[39m \u001b[38;5;241m*\u001b[39m rows))\n\u001b[1;32m     23\u001b[0m axes \u001b[38;5;241m=\u001b[39m axes\u001b[38;5;241m.\u001b[39mflatten()  \u001b[38;5;66;03m# Flatten the 2D array of axes\u001b[39;00m\n",
      "\u001b[0;31mZeroDivisionError\u001b[0m: division by zero"
     ]
    }
   ],
   "source": [
    "import math\n",
    "\n",
    "def normalize_transition_matrices(transition_matrices):\n",
    "    normalized_matrices = {}\n",
    "    for species, matrix in transition_matrices.items():\n",
    "        row_sums = matrix.sum(axis=1)\n",
    "        # Avoid division by zero\n",
    "        row_sums[row_sums == 0] = 1\n",
    "        normalized_matrix = matrix / row_sums[:, np.newaxis]\n",
    "        normalized_matrices[species] = normalized_matrix\n",
    "    return normalized_matrices\n",
    "\n",
    "# Function to calculate and visualize differences between transition matrices\n",
    "def visualize_transition_matrix_differences(transition_matrices, vocab):\n",
    "    species_pairs = list(itertools.combinations(transition_matrices.keys(), 2))\n",
    "    num_pairs = len(species_pairs)\n",
    "    \n",
    "    # Determine grid size\n",
    "    cols = math.ceil(math.sqrt(num_pairs))\n",
    "    rows = math.ceil(num_pairs / cols)\n",
    "    \n",
    "    fig, axes = plt.subplots(rows, cols, figsize=(5 * cols, 5 * rows))\n",
    "    axes = axes.flatten()  # Flatten the 2D array of axes\n",
    "    \n",
    "    for ax, (species1, species2) in zip(axes, species_pairs):\n",
    "        matrix1 = transition_matrices[species1]\n",
    "        matrix2 = transition_matrices[species2]\n",
    "        \n",
    "        # Calculate the difference\n",
    "        difference_matrix = matrix1 - matrix2\n",
    "        \n",
    "        # Plot the difference matrix\n",
    "        sns.heatmap(difference_matrix, xticklabels=vocab, yticklabels=vocab, cmap=\"magma\", center=0, ax=ax)\n",
    "        ax.set_title(f'Difference in Transition Matrix: {species1} vs {species2}')\n",
    "        ax.set_xlabel('Next State')\n",
    "        ax.set_ylabel('Current State')\n",
    "    \n",
    "    # Hide any unused subplots\n",
    "    for i in range(num_pairs, len(axes)):\n",
    "        fig.delaxes(axes[i])\n",
    "    \n",
    "    plt.tight_layout()\n",
    "    plt.show()\n",
    "\n",
    "normalized_transition_matrices = normalize_transition_matrices(transition_matrices)\n",
    "visualize_transition_matrix_differences(normalized_transition_matrices, vocab)"
   ]
  },
  {
   "cell_type": "code",
   "execution_count": null,
   "metadata": {},
   "outputs": [
    {
     "data": {
      "text/html": [
       "<div>\n",
       "<style scoped>\n",
       "    .dataframe tbody tr th:only-of-type {\n",
       "        vertical-align: middle;\n",
       "    }\n",
       "\n",
       "    .dataframe tbody tr th {\n",
       "        vertical-align: top;\n",
       "    }\n",
       "\n",
       "    .dataframe thead th {\n",
       "        text-align: right;\n",
       "    }\n",
       "</style>\n",
       "<table border=\"1\" class=\"dataframe\">\n",
       "  <thead>\n",
       "    <tr style=\"text-align: right;\">\n",
       "      <th></th>\n",
       "      <th>Species1</th>\n",
       "      <th>Species2</th>\n",
       "      <th>Frobenius Norm</th>\n",
       "      <th>Mean Squared Error</th>\n",
       "      <th>Max Absolute Difference</th>\n",
       "    </tr>\n",
       "  </thead>\n",
       "  <tbody>\n",
       "    <tr>\n",
       "      <th>0</th>\n",
       "      <td>Swine</td>\n",
       "      <td>Duck</td>\n",
       "      <td>359246.784303</td>\n",
       "      <td>2.240595e+08</td>\n",
       "      <td>62191.0</td>\n",
       "    </tr>\n",
       "    <tr>\n",
       "      <th>1</th>\n",
       "      <td>Swine</td>\n",
       "      <td>Mallard</td>\n",
       "      <td>335620.799826</td>\n",
       "      <td>1.955578e+08</td>\n",
       "      <td>60341.0</td>\n",
       "    </tr>\n",
       "    <tr>\n",
       "      <th>2</th>\n",
       "      <td>Swine</td>\n",
       "      <td>Chicken</td>\n",
       "      <td>237256.330655</td>\n",
       "      <td>9.772668e+07</td>\n",
       "      <td>43851.0</td>\n",
       "    </tr>\n",
       "    <tr>\n",
       "      <th>3</th>\n",
       "      <td>Duck</td>\n",
       "      <td>Mallard</td>\n",
       "      <td>37728.011079</td>\n",
       "      <td>2.471185e+06</td>\n",
       "      <td>9386.0</td>\n",
       "    </tr>\n",
       "    <tr>\n",
       "      <th>4</th>\n",
       "      <td>Duck</td>\n",
       "      <td>Chicken</td>\n",
       "      <td>227439.706375</td>\n",
       "      <td>8.980698e+07</td>\n",
       "      <td>42332.0</td>\n",
       "    </tr>\n",
       "    <tr>\n",
       "      <th>5</th>\n",
       "      <td>Mallard</td>\n",
       "      <td>Chicken</td>\n",
       "      <td>214183.165916</td>\n",
       "      <td>7.964311e+07</td>\n",
       "      <td>43782.0</td>\n",
       "    </tr>\n",
       "  </tbody>\n",
       "</table>\n",
       "</div>"
      ],
      "text/plain": [
       "  Species1 Species2  Frobenius Norm  Mean Squared Error  \\\n",
       "0    Swine     Duck   359246.784303        2.240595e+08   \n",
       "1    Swine  Mallard   335620.799826        1.955578e+08   \n",
       "2    Swine  Chicken   237256.330655        9.772668e+07   \n",
       "3     Duck  Mallard    37728.011079        2.471185e+06   \n",
       "4     Duck  Chicken   227439.706375        8.980698e+07   \n",
       "5  Mallard  Chicken   214183.165916        7.964311e+07   \n",
       "\n",
       "   Max Absolute Difference  \n",
       "0                  62191.0  \n",
       "1                  60341.0  \n",
       "2                  43851.0  \n",
       "3                   9386.0  \n",
       "4                  42332.0  \n",
       "5                  43782.0  "
      ]
     },
     "execution_count": 42,
     "metadata": {},
     "output_type": "execute_result"
    }
   ],
   "source": [
    "# Function to compute difference metrics between two matrices\n",
    "def compute_difference_metrics(matrix1, matrix2):\n",
    "    frobenius_norm = np.linalg.norm(matrix1 - matrix2, 'fro')\n",
    "    mse = np.mean((matrix1 - matrix2) ** 2)\n",
    "    max_abs_diff = np.max(np.abs(matrix1 - matrix2))\n",
    "    return frobenius_norm, mse, max_abs_diff\n",
    "\n",
    "# Store the results in a DataFrame\n",
    "results = []\n",
    "\n",
    "# Compare each pair of species' transition matrices\n",
    "species_list = list(transition_matrices.keys())\n",
    "for i in range(len(species_list)):\n",
    "    for j in range(i + 1, len(species_list)):\n",
    "        species1 = species_list[i]\n",
    "        species2 = species_list[j]\n",
    "        matrix1 = transition_matrices[species1]\n",
    "        matrix2 = transition_matrices[species2]\n",
    "        frobenius_norm, mse, max_abs_diff = compute_difference_metrics(matrix1, matrix2)\n",
    "        results.append((species1, species2, frobenius_norm, mse, max_abs_diff))\n",
    "\n",
    "# Create a DataFrame to store the results\n",
    "results_df = pd.DataFrame(results, columns=['Species1', 'Species2', 'Frobenius Norm', 'Mean Squared Error', 'Max Absolute Difference'])\n",
    "\n",
    "# Print the results\n",
    "results_df"
   ]
  },
  {
   "cell_type": "markdown",
   "metadata": {},
   "source": [
    "# Generating sequences"
   ]
  },
  {
   "cell_type": "code",
   "execution_count": 35,
   "metadata": {},
   "outputs": [
    {
     "name": "stdout",
     "output_type": "stream",
     "text": [
      "Animal: Chicken\n",
      "  Min Length: 547\n",
      "  Max Length: 576\n",
      "  Start Letter Probabilities: {'M': 0.9995927924259391, 'R': 0.00010180189351521938, 'G': 0.00010180189351521938, 'V': 0.00020360378703043877}\n",
      "\n",
      "Animal: Duck\n",
      "  Min Length: 510\n",
      "  Max Length: 575\n",
      "  Start Letter Probabilities: {'M': 0.9997454175152749, 'V': 0.0002545824847250509}\n",
      "\n",
      "Animal: Mallard\n",
      "  Min Length: 459\n",
      "  Max Length: 570\n",
      "  Start Letter Probabilities: {'M': 1.0}\n",
      "\n",
      "Animal: Swine\n",
      "  Min Length: 357\n",
      "  Max Length: 576\n",
      "  Start Letter Probabilities: {'M': 1.0}\n",
      "\n"
     ]
    }
   ],
   "source": [
    "# Sta roba mi serve solo se devo generare quindi la metto qua\n",
    "animal_stats = {}\n",
    "grouped_data = data_for_cluster.groupby('Host')\n",
    "\n",
    "for animal, group in grouped_data:\n",
    "    sequence_lengths = group['Sequence'].apply(len)\n",
    "    min_length = sequence_lengths.min()\n",
    "    max_length = sequence_lengths.max()\n",
    "    \n",
    "    starting_letters = group['Sequence'].str[0]\n",
    "    letter_counts = Counter(starting_letters)\n",
    "    total_sequences = len(group)\n",
    "    start_letter_probabilities = {letter: count / total_sequences for letter, count in letter_counts.items()}\n",
    "    \n",
    "    animal_stats[animal] = {\n",
    "        'min_length': min_length,\n",
    "        'max_length': max_length,\n",
    "        'start_letter_probabilities': start_letter_probabilities\n",
    "    }\n",
    "\n",
    "for animal, stats in animal_stats.items():\n",
    "    print(f\"Animal: {animal}\")\n",
    "    print(f\"  Min Length: {stats['min_length']}\")\n",
    "    print(f\"  Max Length: {stats['max_length']}\")\n",
    "    print(f\"  Start Letter Probabilities: {stats['start_letter_probabilities']}\")\n",
    "    print()\n"
   ]
  },
  {
   "cell_type": "code",
   "execution_count": 43,
   "metadata": {},
   "outputs": [
    {
     "name": "stdout",
     "output_type": "stream",
     "text": [
      "Swine: MVRTQICDWPFQTSALVDGATIGITAYFTLIAIDLENKNLQFRIWTLKNENSWPKVECTCKYWTPMNITQCEEIDAIIACIVGSTCYHKSEKATYQDLFYSSYKGTIYYRIQNGRYYIDGMVKYHDFTPMVTRRVWICMKTVKGLSSKNRINGNFAIQSFQNTIGSSTGNLSWTATSYPGSTSRNRHKELGWMDTYYIFLKSTSTYNVSFIYAQASWYEQIRYLVGLLISGDINSLENIPTVTKLCILEKNLLNGVRMCNGFSVLDIGDYAPIACIAIHPNLIAIADSFGTIEQNSQEKEKLVSLFCQQLYNGRGNELLESTGTSTYSEPEQTNLGSILWTCNALDQEFSQNQIDLEVTSINAIYVK\n",
      "Duck: MTCIDVAIAEFFYASNPIKILGSEQNIRSSGKYAAQLNTYEERIEVMEQREATIMIGNNVWSNLKMERKGNSKSSGNANRIHSKQNKLYKGYARNPLYADVFHDWTRARPLLRFGLNTDCDGDLGLKILLGSPKCILLFLVSDHEATQNDNRQIGGFNGLLPLLDNKSTPRPQVKYHTGVENTIKTYHILRMEIKEYNGLWTLCFSLTYGNKSLVLLQSYVGIELWSVLTFQTMKILVKLNPQVKLDCNRGTVNGVDKTHNNGNLKTINGIGWIEICRNDYNLQIWSFMNEKKSCNNDCSGNLTKKIENLGRRLWANKLKPQILFTVTGLDGDDVRRRRTRTGNGNDVRPEKYGAEIVTSTILDYQHDKPGAVGICILGSETRLVHEEGRGSPTTLIEDASKGTHDRLCMERILLNETQIMRENLQVKEEANAGFSINTLSVEGGQAPPEQDGCIEQHAVERENRDGSKGDCQKRNPGYHHPRRAAYSLASFLWACICPSNKVTDVERISVTELLLVDVSDQM\n",
      "Mallard: MELLYRIAVKGHDNVERPGDSTNVWTIEGWLDTQGFEKFSAGNALESRLNGRGWIESKLITVPGLGSNAPYNKNLGWIETDCIAIPITEDSAPKHRETLRGQIMGVTCNWYEKESKDYGGFWTIVRIDVNQKFLNLLAIDYNWATAACMIMGVEKLIMRPTVNSIELLTGREGRFLNRICLVYDLRDDCKCMRDIMIACPGPNGSETIVQESKHDALGWNKLILVPSPVIDGTYKSGWDVFYHDTLLGSTGNSSETQFSCYHDQLLTAKWGLYEKQTSACDGIEEMRIEDAIYGTIQGACTQDNTHKTYHYGIVLVNLKSYTVATEDGDLAGKFSIVLAVESRGTIDVKKEFRRQKQCDMLTVNNGYIHQNPPEFRSVVNSGKGWVKLENVADKTRIWDLCPESKVEGDVAVIMNLSNNDFQESIGWGDTRRIRIINPKNTKVKRPFWYIMRDKCQGYKIPIDDSTRGNGRGTFISSLPTQITANGTITESNEGTFIIGKPKIMEAAPLIALNITAEFIAVHTCIRGRLLDFTKTDFEEGLDVVHLFDIPQCFENVE\n",
      "Chicken: MNYRTKPKYHINTVIWSKSCDIWYGHPKVKNGMITIEWLEARETIPFIDTLRIWLMNLDRINEELLKGQNKFYRQKYYNGNTDQTGLPTSEEKKYKSGVSTGLRPDSNNTSNVDDFILNLKIGNIQCFYETNKVNAADGCSHPGNQCTLPAVTLAQRAEKNEKGLCFHERVTIMAFSMLERPGFIQSNNKLRCTSIVPAPYQGFCAMNAMVGLRTKDGTVPFETSVTRLYETTDARPYQTQIDTEGQLPFLSVNATNVGVKINGINGVKKCNLVNATVGNVTTCIRSTRSDTIDGNLFKPSGGLDNVSGIMAIYPQYGNTSFWTKRSICPLRESEGVVLGRAKNAEWFWGIVWTNMICDRMACRWSLPVRIELYNMNIGAMNTCDGNPLSSADSYPKKSGRSKRTIKILLAIHNHAIGCFIECDTQKIIACQYNVQLKGWFRSEHFNVRAPTIEKTHKAILERINTIFGGAKLREGLGTSSRTEELKTDKILMELMEENTEFQKPLLLTILRELELDGLYNNVRDGGRVKVKSNQTYDSSDGECRMEQELRASLLVAENVNGRSCRDRLVGKVTT\n"
     ]
    }
   ],
   "source": [
    "import random\n",
    "\n",
    "def generate_sequence(transition_matrix, species , vocab, vocab_dict, start_char='M'):\n",
    "    max_length = animal_stats[species]['max_length']\n",
    "    min_length = animal_stats[species]['min_length']\n",
    "    sequence_length = random.randint(min_length, max_length) \n",
    "    current_char = start_char\n",
    "    generated_sequence = [current_char]\n",
    "    \n",
    "    for _ in range(sequence_length - 1):  \n",
    "        current_index = vocab_dict[current_char]\n",
    "        transition_probabilities = transition_matrix[current_index]\n",
    "        transition_probabilities /= np.sum(transition_probabilities)  \n",
    "        next_char = np.random.choice(vocab, p=transition_probabilities)\n",
    "        \n",
    "        generated_sequence.append(next_char)\n",
    "        current_char = next_char\n",
    "    return ''.join(generated_sequence)\n",
    "\n",
    "\n",
    "# Generating sequences for all species in the transition_matrices dictionary\n",
    "generated_sequences = {}\n",
    "for species, matrix in transition_matrices.items():\n",
    "    sequence = generate_sequence(matrix, species, vocab, vocab_dict)\n",
    "    generated_sequences[species] = sequence\n",
    "\n",
    "# Print a few generated sequences\n",
    "for species, seq in generated_sequences.items():\n",
    "    print(f\"{species}: {seq[:]}\")  "
   ]
  },
  {
   "cell_type": "code",
   "execution_count": 46,
   "metadata": {},
   "outputs": [
    {
     "name": "stderr",
     "output_type": "stream",
     "text": [
      "  0%|          | 0/1000 [00:00<?, ?it/s]"
     ]
    },
    {
     "name": "stderr",
     "output_type": "stream",
     "text": [
      "100%|██████████| 1000/1000 [00:11<00:00, 84.49it/s]\n",
      "100%|██████████| 1000/1000 [00:13<00:00, 71.74it/s]\n",
      "100%|██████████| 1000/1000 [00:15<00:00, 65.09it/s]\n",
      "100%|██████████| 1000/1000 [00:20<00:00, 49.38it/s]\n"
     ]
    },
    {
     "data": {
      "text/html": [
       "<div>\n",
       "<style scoped>\n",
       "    .dataframe tbody tr th:only-of-type {\n",
       "        vertical-align: middle;\n",
       "    }\n",
       "\n",
       "    .dataframe tbody tr th {\n",
       "        vertical-align: top;\n",
       "    }\n",
       "\n",
       "    .dataframe thead th {\n",
       "        text-align: right;\n",
       "    }\n",
       "</style>\n",
       "<table border=\"1\" class=\"dataframe\">\n",
       "  <thead>\n",
       "    <tr style=\"text-align: right;\">\n",
       "      <th></th>\n",
       "      <th>Host</th>\n",
       "      <th>Sequence</th>\n",
       "    </tr>\n",
       "  </thead>\n",
       "  <tbody>\n",
       "    <tr>\n",
       "      <th>0</th>\n",
       "      <td>Swine</td>\n",
       "      <td>MEQIEGNESTAVRSSIFGFAPNEGNKYVTHPHHTNGYVAVERCNLN...</td>\n",
       "    </tr>\n",
       "    <tr>\n",
       "      <th>1</th>\n",
       "      <td>Swine</td>\n",
       "      <td>MGSDKVAAKILYISGYQLFQTLSYFQLINGNGGMIVVQICPKCFNY...</td>\n",
       "    </tr>\n",
       "    <tr>\n",
       "      <th>2</th>\n",
       "      <td>Swine</td>\n",
       "      <td>MVRIDSLVLFNAVKAYAIQCKEEGIRSLSNNTDIIDDQIYAAKESE...</td>\n",
       "    </tr>\n",
       "    <tr>\n",
       "      <th>3</th>\n",
       "      <td>Swine</td>\n",
       "      <td>MNYNANHAPWLCDSFWTVKYNEKGEVSNHDGCDLSLLSWLPRMRVQ...</td>\n",
       "    </tr>\n",
       "    <tr>\n",
       "      <th>4</th>\n",
       "      <td>Swine</td>\n",
       "      <td>MNGRGSTVKNAIEFNITDDTYAFEFYPDEKMCICPNTGSGYITDLI...</td>\n",
       "    </tr>\n",
       "    <tr>\n",
       "      <th>...</th>\n",
       "      <td>...</td>\n",
       "      <td>...</td>\n",
       "    </tr>\n",
       "    <tr>\n",
       "      <th>3995</th>\n",
       "      <td>Chicken</td>\n",
       "      <td>MCQCAKIKVICDLETESDDKICIINERSTLMAVAPTSAAFHGMEGR...</td>\n",
       "    </tr>\n",
       "    <tr>\n",
       "      <th>3996</th>\n",
       "      <td>Chicken</td>\n",
       "      <td>MNKGLTENMETIFQGRFQKILPIWYKRIDKSLPSVEKLVQHPGLIE...</td>\n",
       "    </tr>\n",
       "    <tr>\n",
       "      <th>3997</th>\n",
       "      <td>Chicken</td>\n",
       "      <td>MCTSGWNGAPDDIRRTESNFPLFIWSSNELRKYNAVSRSYEYNVSH...</td>\n",
       "    </tr>\n",
       "    <tr>\n",
       "      <th>3998</th>\n",
       "      <td>Chicken</td>\n",
       "      <td>MLFIAFSKCTNEFGGLKIAVQKKIDLEKIAARSSSDFYPFYGRPSG...</td>\n",
       "    </tr>\n",
       "    <tr>\n",
       "      <th>3999</th>\n",
       "      <td>Chicken</td>\n",
       "      <td>MAMEKYSDKGVWCVSKQKNRSVRSVNNNGSKLLVAYIVNNKPLIAV...</td>\n",
       "    </tr>\n",
       "  </tbody>\n",
       "</table>\n",
       "<p>4000 rows × 2 columns</p>\n",
       "</div>"
      ],
      "text/plain": [
       "         Host                                           Sequence\n",
       "0       Swine  MEQIEGNESTAVRSSIFGFAPNEGNKYVTHPHHTNGYVAVERCNLN...\n",
       "1       Swine  MGSDKVAAKILYISGYQLFQTLSYFQLINGNGGMIVVQICPKCFNY...\n",
       "2       Swine  MVRIDSLVLFNAVKAYAIQCKEEGIRSLSNNTDIIDDQIYAAKESE...\n",
       "3       Swine  MNYNANHAPWLCDSFWTVKYNEKGEVSNHDGCDLSLLSWLPRMRVQ...\n",
       "4       Swine  MNGRGSTVKNAIEFNITDDTYAFEFYPDEKMCICPNTGSGYITDLI...\n",
       "...       ...                                                ...\n",
       "3995  Chicken  MCQCAKIKVICDLETESDDKICIINERSTLMAVAPTSAAFHGMEGR...\n",
       "3996  Chicken  MNKGLTENMETIFQGRFQKILPIWYKRIDKSLPSVEKLVQHPGLIE...\n",
       "3997  Chicken  MCTSGWNGAPDDIRRTESNFPLFIWSSNELRKYNAVSRSYEYNVSH...\n",
       "3998  Chicken  MLFIAFSKCTNEFGGLKIAVQKKIDLEKIAARSSSDFYPFYGRPSG...\n",
       "3999  Chicken  MAMEKYSDKGVWCVSKQKNRSVRSVNNNGSKLLVAYIVNNKPLIAV...\n",
       "\n",
       "[4000 rows x 2 columns]"
      ]
     },
     "execution_count": 46,
     "metadata": {},
     "output_type": "execute_result"
    }
   ],
   "source": [
    "import pandas as pd\n",
    "\n",
    "# Define the number of sequences you want per species\n",
    "num_sequences_per_species = 1000\n",
    "\n",
    "# List to hold the data for each row\n",
    "data = []\n",
    "\n",
    "# Generating sequences for all species in the transition_matrices dictionary\n",
    "for species, matrix in transition_matrices.items():\n",
    "    for _ in tqdm(range(num_sequences_per_species)):\n",
    "        sequence = generate_sequence(matrix, species, vocab, vocab_dict)\n",
    "        data.append({'Host': species, 'Sequence': sequence})\n",
    "\n",
    "# Convert the list of dictionaries into a pandas DataFrame\n",
    "sequences_df = pd.DataFrame(data)\n",
    "\n",
    "# Display the DataFrame\n",
    "sequences_df\n"
   ]
  },
  {
   "cell_type": "code",
   "execution_count": 47,
   "metadata": {},
   "outputs": [],
   "source": [
    "sequences_df.to_csv('generated_sequences.csv', index=False)\n"
   ]
  },
  {
   "cell_type": "code",
   "execution_count": null,
   "metadata": {},
   "outputs": [],
   "source": []
  }
 ],
 "metadata": {
  "kernelspec": {
   "display_name": "base",
   "language": "python",
   "name": "python3"
  },
  "language_info": {
   "codemirror_mode": {
    "name": "ipython",
    "version": 3
   },
   "file_extension": ".py",
   "mimetype": "text/x-python",
   "name": "python",
   "nbconvert_exporter": "python",
   "pygments_lexer": "ipython3",
   "version": "3.10.13"
  }
 },
 "nbformat": 4,
 "nbformat_minor": 2
}
